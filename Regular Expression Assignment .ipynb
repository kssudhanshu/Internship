{
 "cells": [
  {
   "cell_type": "markdown",
   "id": "af2aac07",
   "metadata": {},
   "source": [
    "# ASSIGMENT -1 REGULAR EXPRESSION |Intern Name- Sudhanshu Kumar Singh|Submission Date 19-07-2023"
   ]
  },
  {
   "cell_type": "markdown",
   "id": "a858162b",
   "metadata": {},
   "source": [
    "Question 1- Write a Python program to check that a string contains only a certain set of characters (in this case a-z, A-Z and 0-9)."
   ]
  },
  {
   "cell_type": "code",
   "execution_count": 1,
   "id": "777463e2",
   "metadata": {},
   "outputs": [],
   "source": [
    "import regex as re"
   ]
  },
  {
   "cell_type": "code",
   "execution_count": 2,
   "id": "31812896",
   "metadata": {},
   "outputs": [],
   "source": [
    "def check_string_contains(string):\n",
    "    pattern=r'^[a-zA-Z0-9]+$'\n",
    "    if re.match(pattern,string):\n",
    "        print(\"String contains only specified characters.\")\n",
    "    else:\n",
    "        print(\"String contains characters other than specifind\")"
   ]
  },
  {
   "cell_type": "code",
   "execution_count": 3,
   "id": "96eb4bf2",
   "metadata": {},
   "outputs": [
    {
     "name": "stdout",
     "output_type": "stream",
     "text": [
      "String contains only specified characters.\n"
     ]
    }
   ],
   "source": [
    "#Example \n",
    "check_string_contains(\"ABCDabcd1234\")"
   ]
  },
  {
   "cell_type": "code",
   "execution_count": 4,
   "id": "a873fab0",
   "metadata": {},
   "outputs": [
    {
     "name": "stdout",
     "output_type": "stream",
     "text": [
      "String contains characters other than specifind\n"
     ]
    }
   ],
   "source": [
    "check_string_contains(\"ABCDabcd1234@\")"
   ]
  },
  {
   "cell_type": "markdown",
   "id": "101103b5",
   "metadata": {},
   "source": []
  },
  {
   "cell_type": "markdown",
   "id": "399ba731",
   "metadata": {},
   "source": [
    "Question 2- Create a function in python that matches a string that has an a followed by zero or more b's"
   ]
  },
  {
   "cell_type": "code",
   "execution_count": 5,
   "id": "82bf9e37",
   "metadata": {},
   "outputs": [],
   "source": [
    "import regex as re"
   ]
  },
  {
   "cell_type": "code",
   "execution_count": 21,
   "id": "691d6b66",
   "metadata": {},
   "outputs": [],
   "source": [
    "def match_string_followed_by_zero(string):\n",
    "    pattern=r'ab*'\n",
    "    if re.match(pattern,string):\n",
    "        print(\"Match found\")\n",
    "    else:\n",
    "        print(\"Match NOt found\")"
   ]
  },
  {
   "cell_type": "code",
   "execution_count": 22,
   "id": "c09af5fd",
   "metadata": {},
   "outputs": [
    {
     "name": "stdout",
     "output_type": "stream",
     "text": [
      "Match found\n"
     ]
    }
   ],
   "source": [
    "match_string_followed_by_zero(\"ab\")"
   ]
  },
  {
   "cell_type": "code",
   "execution_count": 23,
   "id": "b597a50b",
   "metadata": {},
   "outputs": [
    {
     "name": "stdout",
     "output_type": "stream",
     "text": [
      "Match found\n"
     ]
    }
   ],
   "source": [
    "match_string_followed_by_zero(\"a\")"
   ]
  },
  {
   "cell_type": "code",
   "execution_count": 25,
   "id": "364014ad",
   "metadata": {},
   "outputs": [
    {
     "name": "stdout",
     "output_type": "stream",
     "text": [
      "Match NOt found\n"
     ]
    }
   ],
   "source": [
    "match_string_followed_by_zero(\"o0\")"
   ]
  },
  {
   "cell_type": "markdown",
   "id": "e300b277",
   "metadata": {},
   "source": [
    "Question 3: Function in Python that matches a string that has an 'a' followed by one or more 'b's"
   ]
  },
  {
   "cell_type": "code",
   "execution_count": 26,
   "id": "bf33057d",
   "metadata": {},
   "outputs": [],
   "source": [
    "import re"
   ]
  },
  {
   "cell_type": "code",
   "execution_count": 27,
   "id": "9069bc0b",
   "metadata": {},
   "outputs": [],
   "source": [
    "def match_a_followed_by_one_or_more_bs(string):\n",
    "    pattern = r'ab+'\n",
    "    if re.match(pattern, string):\n",
    "        print(\"Match found.\")\n",
    "    else:\n",
    "        print(\"Match not found.\")"
   ]
  },
  {
   "cell_type": "code",
   "execution_count": 28,
   "id": "26fb9af3",
   "metadata": {},
   "outputs": [
    {
     "name": "stdout",
     "output_type": "stream",
     "text": [
      "Match found.\n"
     ]
    }
   ],
   "source": [
    "match_a_followed_by_one_or_more_bs(\"ab\")"
   ]
  },
  {
   "cell_type": "code",
   "execution_count": 30,
   "id": "17d00612",
   "metadata": {},
   "outputs": [
    {
     "name": "stdout",
     "output_type": "stream",
     "text": [
      "Match found.\n"
     ]
    }
   ],
   "source": [
    "match_a_followed_by_one_or_more_bs(\"abb\")"
   ]
  },
  {
   "cell_type": "code",
   "execution_count": 31,
   "id": "5df23786",
   "metadata": {},
   "outputs": [
    {
     "name": "stdout",
     "output_type": "stream",
     "text": [
      "Match not found.\n"
     ]
    }
   ],
   "source": [
    "match_a_followed_by_one_or_more_bs(\"ac\")"
   ]
  },
  {
   "cell_type": "markdown",
   "id": "6518f1cd",
   "metadata": {},
   "source": [
    "Question 4: Function in Python that matches a string that has an 'a' followed by zero or one 'b'\n"
   ]
  },
  {
   "cell_type": "code",
   "execution_count": 32,
   "id": "559a9de6",
   "metadata": {},
   "outputs": [],
   "source": [
    "import re\n",
    "\n",
    "def match_a_followed_by_zero_or_one_b(string):\n",
    "    pattern = r'ab?'\n",
    "    if re.match(pattern, string):\n",
    "        print(\"Match found.\")\n",
    "    else:\n",
    "        print(\"Match not found.\")"
   ]
  },
  {
   "cell_type": "code",
   "execution_count": 33,
   "id": "e8ebecee",
   "metadata": {},
   "outputs": [
    {
     "name": "stdout",
     "output_type": "stream",
     "text": [
      "Match found.\n"
     ]
    }
   ],
   "source": [
    "match_a_followed_by_zero_or_one_b(\"ab\")"
   ]
  },
  {
   "cell_type": "code",
   "execution_count": 34,
   "id": "d0596b16",
   "metadata": {},
   "outputs": [
    {
     "name": "stdout",
     "output_type": "stream",
     "text": [
      "Match found.\n"
     ]
    }
   ],
   "source": [
    "match_a_followed_by_zero_or_one_b(\"a\")"
   ]
  },
  {
   "cell_type": "code",
   "execution_count": 38,
   "id": "c2b65867",
   "metadata": {},
   "outputs": [
    {
     "name": "stdout",
     "output_type": "stream",
     "text": [
      "Match not found.\n"
     ]
    }
   ],
   "source": [
    "match_a_followed_by_zero_or_one_b(\"baa\")"
   ]
  },
  {
   "cell_type": "markdown",
   "id": "b852e19e",
   "metadata": {},
   "source": [
    "Question 5: Python program that matches a string that has an 'a' followed by three 'b's"
   ]
  },
  {
   "cell_type": "code",
   "execution_count": 1,
   "id": "aa6382f5",
   "metadata": {},
   "outputs": [],
   "source": [
    "import re"
   ]
  },
  {
   "cell_type": "code",
   "execution_count": 14,
   "id": "045d8bad",
   "metadata": {},
   "outputs": [],
   "source": [
    "def match_a_followed_by_three_bs(string):\n",
    "    pattern = r'ab{3}'\n",
    "    if re.search(pattern, string):\n",
    "        print(\"Match found.\")\n",
    "    else:\n",
    "        print(\"Match not found.\")"
   ]
  },
  {
   "cell_type": "code",
   "execution_count": 15,
   "id": "5130799c",
   "metadata": {},
   "outputs": [
    {
     "name": "stdout",
     "output_type": "stream",
     "text": [
      "Match found.\n"
     ]
    }
   ],
   "source": [
    "match_a_followed_by_three_bs(\"abbb\") "
   ]
  },
  {
   "cell_type": "code",
   "execution_count": 17,
   "id": "6da4ce8f",
   "metadata": {},
   "outputs": [
    {
     "name": "stdout",
     "output_type": "stream",
     "text": [
      "Match not found.\n"
     ]
    }
   ],
   "source": [
    "match_a_followed_by_three_bs(\"aaabb\")"
   ]
  },
  {
   "cell_type": "code",
   "execution_count": 19,
   "id": "376a5566",
   "metadata": {},
   "outputs": [],
   "source": [
    "#i run above program and search abbbb, but should give result - \"match not found\""
   ]
  },
  {
   "cell_type": "code",
   "execution_count": 20,
   "id": "2ed6d7ee",
   "metadata": {},
   "outputs": [
    {
     "name": "stdout",
     "output_type": "stream",
     "text": [
      "Match found.\n"
     ]
    }
   ],
   "source": [
    "match_a_followed_by_three_bs(\"abbbb\")\n"
   ]
  },
  {
   "cell_type": "markdown",
   "id": "833d600c",
   "metadata": {},
   "source": [
    "Question 6: Regular expression in Python to split a string into uppercase letters"
   ]
  },
  {
   "cell_type": "markdown",
   "id": "603d3982",
   "metadata": {},
   "source": []
  },
  {
   "cell_type": "code",
   "execution_count": 22,
   "id": "0ae1afa9",
   "metadata": {},
   "outputs": [],
   "source": [
    "import re"
   ]
  },
  {
   "cell_type": "code",
   "execution_count": 26,
   "id": "0b55812a",
   "metadata": {},
   "outputs": [],
   "source": [
    "def split_string_into_uppercase(string):\n",
    "    pattern = r'[A-Z][a-z]*'\n",
    "    result = re.findall(pattern, string)\n",
    "    print(result)"
   ]
  },
  {
   "cell_type": "code",
   "execution_count": 27,
   "id": "f1726ce4",
   "metadata": {},
   "outputs": [
    {
     "name": "stdout",
     "output_type": "stream",
     "text": [
      "['Importance', 'Of', 'Regular', 'Expressions', 'In', 'Python']\n"
     ]
    }
   ],
   "source": [
    "split_string_into_uppercase(\"ImportanceOfRegularExpressionsInPython\")"
   ]
  },
  {
   "cell_type": "markdown",
   "id": "67f76c67",
   "metadata": {},
   "source": [
    "Question 7: Python program that matches a string that has an 'a' followed by two to three 'b's"
   ]
  },
  {
   "cell_type": "code",
   "execution_count": 29,
   "id": "8ee4b0ed",
   "metadata": {},
   "outputs": [],
   "source": [
    "import re"
   ]
  },
  {
   "cell_type": "code",
   "execution_count": 40,
   "id": "5629c536",
   "metadata": {},
   "outputs": [],
   "source": [
    "def match_a_followed_by_two_to_three_bs(string):\n",
    "    pattern = r'ab{2,3}'\n",
    "    if re.search(pattern, string):\n",
    "        print(\"Match found.\")\n",
    "    else:\n",
    "        print(\"Match not found.\")"
   ]
  },
  {
   "cell_type": "code",
   "execution_count": 41,
   "id": "e1b6b6f8",
   "metadata": {},
   "outputs": [
    {
     "name": "stdout",
     "output_type": "stream",
     "text": [
      "Match found.\n"
     ]
    }
   ],
   "source": [
    "match_a_followed_by_two_to_three_bs(\"abb\")"
   ]
  },
  {
   "cell_type": "code",
   "execution_count": 43,
   "id": "649aea0d",
   "metadata": {},
   "outputs": [
    {
     "name": "stdout",
     "output_type": "stream",
     "text": [
      "Match not found.\n"
     ]
    }
   ],
   "source": [
    "match_a_followed_by_two_to_three_bs(\"abab\")"
   ]
  },
  {
   "cell_type": "code",
   "execution_count": 44,
   "id": "f44972ee",
   "metadata": {},
   "outputs": [
    {
     "name": "stdout",
     "output_type": "stream",
     "text": [
      "Match found.\n"
     ]
    }
   ],
   "source": [
    "match_a_followed_by_two_to_three_bs(\"abbb\") # Output: Match found."
   ]
  },
  {
   "cell_type": "markdown",
   "id": "9d395be2",
   "metadata": {},
   "source": [
    "Question 8: Python program to find sequences of lowercase letters joined with an underscore\n"
   ]
  },
  {
   "cell_type": "code",
   "execution_count": 45,
   "id": "a85b87ec",
   "metadata": {},
   "outputs": [],
   "source": [
    "import re\n",
    "\n",
    "def find_lowercase_sequences_with_underscore(string):\n",
    "    pattern = r'[a-z]+_[a-z]+'\n",
    "    result = re.findall(pattern, string)\n",
    "    print(result)\n"
   ]
  },
  {
   "cell_type": "code",
   "execution_count": 46,
   "id": "4634d8c8",
   "metadata": {},
   "outputs": [
    {
     "name": "stdout",
     "output_type": "stream",
     "text": [
      "['hello_world', 'foo_bar']\n"
     ]
    }
   ],
   "source": [
    "find_lowercase_sequences_with_underscore(\"hello_world and foo_bar are examples\") "
   ]
  },
  {
   "cell_type": "markdown",
   "id": "bd103743",
   "metadata": {},
   "source": [
    "Question 9: Python program that matches a string that has an 'a' followed by anything, ending in 'b'"
   ]
  },
  {
   "cell_type": "code",
   "execution_count": 60,
   "id": "7c613e65",
   "metadata": {},
   "outputs": [],
   "source": [
    "import re\n",
    "\n",
    "def match_a_followed_by_anything_ending_in_b(string):\n",
    "    pattern = r'a.*b$'\n",
    "    if re.match(pattern, string):\n",
    "        print(\"Match found.\")\n",
    "    else:\n",
    "        print(\"Match not found.\")"
   ]
  },
  {
   "cell_type": "code",
   "execution_count": 61,
   "id": "6278fb6f",
   "metadata": {},
   "outputs": [
    {
     "name": "stdout",
     "output_type": "stream",
     "text": [
      "Match found.\n"
     ]
    }
   ],
   "source": [
    "match_a_followed_by_anything_ending_in_b(\"acdb\")"
   ]
  },
  {
   "cell_type": "code",
   "execution_count": 62,
   "id": "13f61fbe",
   "metadata": {},
   "outputs": [
    {
     "name": "stdout",
     "output_type": "stream",
     "text": [
      "Match not found.\n"
     ]
    }
   ],
   "source": [
    "match_a_followed_by_anything_ending_in_b(\"aaabbbbbc\")"
   ]
  },
  {
   "cell_type": "markdown",
   "id": "6b326bdd",
   "metadata": {},
   "source": [
    "Question 10: Python program that matches a word at the beginning of a string\n"
   ]
  },
  {
   "cell_type": "code",
   "execution_count": 63,
   "id": "47b8699e",
   "metadata": {},
   "outputs": [],
   "source": [
    "import re"
   ]
  },
  {
   "cell_type": "code",
   "execution_count": 64,
   "id": "1e7938cf",
   "metadata": {},
   "outputs": [],
   "source": [
    "def match_word_at_beginning(string, word):\n",
    "    pattern = rf'^{word}\\b'\n",
    "    if re.match(pattern, string):\n",
    "        print(\"Match found.\")\n",
    "    else:\n",
    "        print(\"Match not found.\")"
   ]
  },
  {
   "cell_type": "code",
   "execution_count": 65,
   "id": "f99023d1",
   "metadata": {},
   "outputs": [
    {
     "name": "stdout",
     "output_type": "stream",
     "text": [
      "Match found.\n"
     ]
    }
   ],
   "source": [
    "match_word_at_beginning(\"apple is a fruit\", \"apple\")"
   ]
  },
  {
   "cell_type": "code",
   "execution_count": 66,
   "id": "a6d30a4e",
   "metadata": {},
   "outputs": [
    {
     "name": "stdout",
     "output_type": "stream",
     "text": [
      "Match not found.\n"
     ]
    }
   ],
   "source": [
    "match_word_at_beginning(\"banana is a fruit\", \"apple\")"
   ]
  },
  {
   "cell_type": "markdown",
   "id": "10605904",
   "metadata": {},
   "source": [
    "Question 11: Python program to match a string that contains only upper and lowercase letters, numbers, and underscores\n"
   ]
  },
  {
   "cell_type": "code",
   "execution_count": 1,
   "id": "8d5f0249",
   "metadata": {},
   "outputs": [],
   "source": [
    "import re"
   ]
  },
  {
   "cell_type": "code",
   "execution_count": 2,
   "id": "31213cc0",
   "metadata": {},
   "outputs": [],
   "source": [
    "def match_string_with_uppercase_lowercase_numbers_underscore(string):\n",
    "    pattern = r'^[A-Za-z0-9_]+$'\n",
    "    if re.match(pattern, string):\n",
    "        print(\"Match found.\")\n",
    "    else:\n",
    "        print(\"Match not found.\")"
   ]
  },
  {
   "cell_type": "code",
   "execution_count": 3,
   "id": "34f88d83",
   "metadata": {},
   "outputs": [
    {
     "name": "stdout",
     "output_type": "stream",
     "text": [
      "Match found.\n"
     ]
    }
   ],
   "source": [
    "match_string_with_uppercase_lowercase_numbers_underscore(\"Abc_123\")"
   ]
  },
  {
   "cell_type": "code",
   "execution_count": 4,
   "id": "348df3bb",
   "metadata": {},
   "outputs": [
    {
     "name": "stdout",
     "output_type": "stream",
     "text": [
      "Match not found.\n"
     ]
    }
   ],
   "source": [
    "match_string_with_uppercase_lowercase_numbers_underscore(\"Abc@123\")"
   ]
  },
  {
   "cell_type": "markdown",
   "id": "9554e2c9",
   "metadata": {},
   "source": [
    "Question 12: Python program where a string will start with a specific number\n"
   ]
  },
  {
   "cell_type": "code",
   "execution_count": 5,
   "id": "6a30c4c6",
   "metadata": {},
   "outputs": [],
   "source": [
    "import re"
   ]
  },
  {
   "cell_type": "code",
   "execution_count": 6,
   "id": "bc3fc51e",
   "metadata": {},
   "outputs": [],
   "source": [
    "def match_string_start_with_number(string, number):\n",
    "    pattern = rf'^{number}'\n",
    "    if re.match(pattern, string):\n",
    "        print(\"Match found.\")\n",
    "    else:\n",
    "        print(\"Match not found.\")"
   ]
  },
  {
   "cell_type": "code",
   "execution_count": 7,
   "id": "ef88b497",
   "metadata": {},
   "outputs": [
    {
     "name": "stdout",
     "output_type": "stream",
     "text": [
      "Match found.\n"
     ]
    }
   ],
   "source": [
    "match_string_start_with_number(\"123abc\", \"123\")"
   ]
  },
  {
   "cell_type": "code",
   "execution_count": 8,
   "id": "64d11c02",
   "metadata": {},
   "outputs": [
    {
     "name": "stdout",
     "output_type": "stream",
     "text": [
      "Match not found.\n"
     ]
    }
   ],
   "source": [
    "match_string_start_with_number(\"456def\", \"123\")"
   ]
  },
  {
   "cell_type": "markdown",
   "id": "2f20c49c",
   "metadata": {},
   "source": [
    "Question 13: Python program to remove leading zeros from an IP address"
   ]
  },
  {
   "cell_type": "code",
   "execution_count": 9,
   "id": "f55bd190",
   "metadata": {},
   "outputs": [],
   "source": [
    "import re\n"
   ]
  },
  {
   "cell_type": "code",
   "execution_count": 10,
   "id": "f15aeae0",
   "metadata": {},
   "outputs": [],
   "source": [
    "def remove_leading_zeros_from_ip(ip_address):\n",
    "    pattern = r'\\b0+(\\d+)\\b'\n",
    "    result = re.sub(pattern, r'\\1', ip_address)\n",
    "    return result"
   ]
  },
  {
   "cell_type": "code",
   "execution_count": 11,
   "id": "21d0e31c",
   "metadata": {},
   "outputs": [
    {
     "name": "stdout",
     "output_type": "stream",
     "text": [
      "192.168.1.1\n"
     ]
    }
   ],
   "source": [
    "ip_address = \"192.168.001.001\"\n",
    "new_ip_address = remove_leading_zeros_from_ip(ip_address)\n",
    "print(new_ip_address)"
   ]
  },
  {
   "cell_type": "markdown",
   "id": "c553505b",
   "metadata": {},
   "source": [
    "Question 14: Regular expression in Python to match a date string in the form of Month name followed by day number and year stored in a text file\n"
   ]
  },
  {
   "cell_type": "code",
   "execution_count": 12,
   "id": "21f511da",
   "metadata": {},
   "outputs": [],
   "source": [
    "import re"
   ]
  },
  {
   "cell_type": "code",
   "execution_count": 13,
   "id": "898e9750",
   "metadata": {},
   "outputs": [
    {
     "name": "stdout",
     "output_type": "stream",
     "text": [
      "August 15th 1947\n"
     ]
    }
   ],
   "source": [
    "text = 'On August 15th 1947 that India was declared independent from British colonialism, and the reins of control were handed over to the leaders of the Country.'\n",
    "pattern = r'[A-Z][a-z]+\\s\\d+(?:st|nd|rd|th)\\s\\d{4}'\n",
    "match = re.search(pattern, text)\n",
    "if match:\n",
    "    print(match.group(0))\n",
    "else:\n",
    "    print(\"Match not found.\")"
   ]
  },
  {
   "cell_type": "markdown",
   "id": "0ceacffb",
   "metadata": {},
   "source": [
    "Question 15: Python program to search for specific literals in a string\n"
   ]
  },
  {
   "cell_type": "code",
   "execution_count": 14,
   "id": "f0d62227",
   "metadata": {},
   "outputs": [],
   "source": [
    "import re"
   ]
  },
  {
   "cell_type": "code",
   "execution_count": 15,
   "id": "aa7ba56c",
   "metadata": {},
   "outputs": [],
   "source": [
    "def search_literals_in_string(string, searched_words):\n",
    "    pattern = '|'.join(re.escape(word) for word in searched_words)\n",
    "    matches = re.findall(pattern, string)\n",
    "    return matches"
   ]
  },
  {
   "cell_type": "code",
   "execution_count": 16,
   "id": "e138e767",
   "metadata": {},
   "outputs": [],
   "source": [
    "# Example usage\n",
    "string = 'The quick brown fox jumps over the lazy dog.'\n",
    "searched_words = ['fox', 'dog', 'horse']\n",
    "result = search_literals_in_string(string, searched_words)"
   ]
  },
  {
   "cell_type": "code",
   "execution_count": 17,
   "id": "789a82f3",
   "metadata": {},
   "outputs": [
    {
     "name": "stdout",
     "output_type": "stream",
     "text": [
      "['fox', 'dog']\n"
     ]
    }
   ],
   "source": [
    "print(result)"
   ]
  },
  {
   "cell_type": "markdown",
   "id": "f3d5a419",
   "metadata": {},
   "source": [
    "Question 16: Python program to search for a literal string in a string and find its location\n"
   ]
  },
  {
   "cell_type": "code",
   "execution_count": 19,
   "id": "1c29a665",
   "metadata": {},
   "outputs": [],
   "source": [
    "import re"
   ]
  },
  {
   "cell_type": "code",
   "execution_count": 20,
   "id": "097e17ef",
   "metadata": {},
   "outputs": [],
   "source": [
    "def search_literal_and_find_location(string, searched_word):\n",
    "    pattern = re.escape(searched_word)\n",
    "    match = re.search(pattern, string)\n",
    "    if match:\n",
    "        start_index = match.start()\n",
    "        end_index = match.end()\n",
    "        return start_index, end_index\n",
    "    else:\n",
    "        return None"
   ]
  },
  {
   "cell_type": "code",
   "execution_count": 21,
   "id": "fb01b9eb",
   "metadata": {},
   "outputs": [
    {
     "name": "stdout",
     "output_type": "stream",
     "text": [
      "(16, 19)\n"
     ]
    }
   ],
   "source": [
    "# Example usage\n",
    "string = 'The quick brown fox jumps over the lazy dog.'\n",
    "searched_word = 'fox'\n",
    "result = search_literal_and_find_location(string, searched_word)\n",
    "print(result) "
   ]
  },
  {
   "cell_type": "markdown",
   "id": "9146be4f",
   "metadata": {},
   "source": [
    "Question 17: Python program to find substrings within a string\n"
   ]
  },
  {
   "cell_type": "code",
   "execution_count": 23,
   "id": "38e48976",
   "metadata": {},
   "outputs": [],
   "source": [
    "import re"
   ]
  },
  {
   "cell_type": "code",
   "execution_count": 24,
   "id": "8fe5d1f3",
   "metadata": {},
   "outputs": [],
   "source": [
    "def find_substrings(string, pattern):\n",
    "    matches = re.findall(pattern, string)\n",
    "    return matches\n"
   ]
  },
  {
   "cell_type": "code",
   "execution_count": 25,
   "id": "0a035e92",
   "metadata": {},
   "outputs": [],
   "source": [
    "# Example usage\n",
    "string = 'Python exercises, PHP exercises, C# exercises'\n",
    "pattern = 'exercises'\n",
    "result = find_substrings(string, pattern)"
   ]
  },
  {
   "cell_type": "code",
   "execution_count": 26,
   "id": "0b4c6b0d",
   "metadata": {},
   "outputs": [
    {
     "name": "stdout",
     "output_type": "stream",
     "text": [
      "['exercises', 'exercises', 'exercises']\n"
     ]
    }
   ],
   "source": [
    "print(result) "
   ]
  },
  {
   "cell_type": "markdown",
   "id": "d4aad3e4",
   "metadata": {},
   "source": [
    "Question 18: Python program to find the occurrence and position of substrings within a string\n"
   ]
  },
  {
   "cell_type": "code",
   "execution_count": 27,
   "id": "2edf5b99",
   "metadata": {},
   "outputs": [],
   "source": [
    "import re\n"
   ]
  },
  {
   "cell_type": "code",
   "execution_count": 28,
   "id": "801075d2",
   "metadata": {},
   "outputs": [],
   "source": [
    "def find_occurrence_and_position(string, substring):\n",
    "    matches = [(match.start(), match.end()) for match in re.finditer(substring, string)]\n",
    "    return matches\n"
   ]
  },
  {
   "cell_type": "code",
   "execution_count": 29,
   "id": "ee4aea88",
   "metadata": {},
   "outputs": [
    {
     "name": "stdout",
     "output_type": "stream",
     "text": [
      "[(7, 16), (22, 31), (36, 45)]\n"
     ]
    }
   ],
   "source": [
    "# Example usage\n",
    "string = 'Python exercises, PHP exercises, C# exercises'\n",
    "substring = 'exercises'\n",
    "result = find_occurrence_and_position(string, substring)\n",
    "print(result)"
   ]
  },
  {
   "cell_type": "markdown",
   "id": "01e0b006",
   "metadata": {},
   "source": [
    "Question 19: Python program to convert a date of yyyy-mm-dd format to dd-mm-yyyy format"
   ]
  },
  {
   "cell_type": "code",
   "execution_count": 31,
   "id": "d63aa757",
   "metadata": {},
   "outputs": [],
   "source": [
    "import re"
   ]
  },
  {
   "cell_type": "code",
   "execution_count": 32,
   "id": "3c30d821",
   "metadata": {},
   "outputs": [],
   "source": [
    "def convert_date_format(date):\n",
    "    pattern = r'(\\d{4})-(\\d{2})-(\\d{2})'\n",
    "    result = re.sub(pattern, r'\\3-\\2-\\1', date)\n",
    "    return result\n"
   ]
  },
  {
   "cell_type": "code",
   "execution_count": 33,
   "id": "4ab61c9e",
   "metadata": {},
   "outputs": [
    {
     "name": "stdout",
     "output_type": "stream",
     "text": [
      "31-12-2022\n"
     ]
    }
   ],
   "source": [
    "# Example usage\n",
    "date = '2022-12-31'\n",
    "new_date = convert_date_format(date)\n",
    "print(new_date) "
   ]
  },
  {
   "cell_type": "markdown",
   "id": "37ea9dbf",
   "metadata": {},
   "source": [
    "Question 20: Python program to find all words starting with 'a' or 'e' in a given string"
   ]
  },
  {
   "cell_type": "code",
   "execution_count": 36,
   "id": "e225dc77",
   "metadata": {},
   "outputs": [],
   "source": [
    "import re"
   ]
  },
  {
   "cell_type": "code",
   "execution_count": 37,
   "id": "e29f9add",
   "metadata": {},
   "outputs": [],
   "source": [
    "def find_words_starting_with_a_or_e(string):\n",
    "    pattern = r'\\b[aAeE]\\w+'\n",
    "    matches = re.findall(pattern, string)\n",
    "    return matches"
   ]
  },
  {
   "cell_type": "code",
   "execution_count": 38,
   "id": "68f2a6bb",
   "metadata": {},
   "outputs": [
    {
     "name": "stdout",
     "output_type": "stream",
     "text": [
      "['apple', 'elephant', 'ant', 'eagle']\n"
     ]
    }
   ],
   "source": [
    "string = 'apple, banana, elephant, ant, eagle'\n",
    "result = find_words_starting_with_a_or_e(string)\n",
    "print(result)"
   ]
  },
  {
   "cell_type": "markdown",
   "id": "b97effd6",
   "metadata": {},
   "source": [
    "Question 21: Python program to separate and print the numbers and their positions in a given string\n"
   ]
  },
  {
   "cell_type": "code",
   "execution_count": 39,
   "id": "cf658357",
   "metadata": {},
   "outputs": [],
   "source": [
    "import re\n"
   ]
  },
  {
   "cell_type": "code",
   "execution_count": 40,
   "id": "eb2aa560",
   "metadata": {},
   "outputs": [],
   "source": [
    "def separate_numbers_and_positions(string):\n",
    "    pattern = r'\\d+'\n",
    "    matches = re.finditer(pattern, string)\n",
    "    result = [(match.group(), match.start(), match.end()) for match in matches]\n",
    "    return result\n"
   ]
  },
  {
   "cell_type": "code",
   "execution_count": 41,
   "id": "8f3218d7",
   "metadata": {},
   "outputs": [
    {
     "name": "stdout",
     "output_type": "stream",
     "text": [
      "[('123', 3, 6), ('456', 9, 12), ('789', 15, 18)]\n"
     ]
    }
   ],
   "source": [
    "# Example usage\n",
    "string = 'abc123def456ghi789'\n",
    "result = separate_numbers_and_positions(string)\n",
    "print(result)"
   ]
  },
  {
   "cell_type": "markdown",
   "id": "76b4762a",
   "metadata": {},
   "source": [
    "Question 22: Regular expression in Python to extract the maximum numeric value from a string\n"
   ]
  },
  {
   "cell_type": "code",
   "execution_count": 42,
   "id": "cbf3132f",
   "metadata": {},
   "outputs": [],
   "source": [
    "import re\n",
    "\n",
    "def extract_maximum_numeric_value(string):\n",
    "    pattern = r'\\d+'\n",
    "    matches = re.findall(pattern, string)\n",
    "    if matches:\n",
    "        max_value = max(map(int, matches))\n",
    "        return str(max_value)\n",
    "    else:\n",
    "        return None\n"
   ]
  },
  {
   "cell_type": "code",
   "execution_count": 43,
   "id": "09352e3d",
   "metadata": {},
   "outputs": [
    {
     "name": "stdout",
     "output_type": "stream",
     "text": [
      "789\n"
     ]
    }
   ],
   "source": [
    "# Example usage\n",
    "string = 'abc123def456ghi789'\n",
    "result = extract_maximum_numeric_value(string)\n",
    "print(result) "
   ]
  },
  {
   "cell_type": "markdown",
   "id": "b6da8651",
   "metadata": {},
   "source": [
    "Question 23: Regex in Python to put spaces between words starting with capital letters\n"
   ]
  },
  {
   "cell_type": "code",
   "execution_count": 44,
   "id": "04bec414",
   "metadata": {},
   "outputs": [],
   "source": [
    "import re\n"
   ]
  },
  {
   "cell_type": "code",
   "execution_count": 45,
   "id": "547e64fd",
   "metadata": {},
   "outputs": [],
   "source": [
    "def put_spaces_between_words(string):\n",
    "    pattern = r'(\\b[A-Z][a-z]*)'\n",
    "    result = re.sub(pattern, r' \\1', string)\n",
    "    return result"
   ]
  },
  {
   "cell_type": "code",
   "execution_count": 46,
   "id": "4870f4d7",
   "metadata": {},
   "outputs": [
    {
     "name": "stdout",
     "output_type": "stream",
     "text": [
      " ImportanceOfRegularExpressionsInPython\n"
     ]
    }
   ],
   "source": [
    "# Example usage\n",
    "string = 'ImportanceOfRegularExpressionsInPython'\n",
    "new_string = put_spaces_between_words(string)\n",
    "print(new_string)"
   ]
  },
  {
   "cell_type": "markdown",
   "id": "82855116",
   "metadata": {},
   "source": [
    "Question 24: Python regex to find sequences of one uppercase letter followed by lowercase letters\n"
   ]
  },
  {
   "cell_type": "markdown",
   "id": "766d991c",
   "metadata": {},
   "source": []
  },
  {
   "cell_type": "code",
   "execution_count": 48,
   "id": "a0e6e6df",
   "metadata": {},
   "outputs": [],
   "source": [
    "import re"
   ]
  },
  {
   "cell_type": "code",
   "execution_count": 49,
   "id": "359855db",
   "metadata": {},
   "outputs": [],
   "source": [
    "def find_sequences_of_uppercase_followed_by_lowercase(string):\n",
    "    pattern = r'[A-Z][a-z]+'\n",
    "    matches = re.findall(pattern, string)\n",
    "    return matches"
   ]
  },
  {
   "cell_type": "code",
   "execution_count": 50,
   "id": "4e28f023",
   "metadata": {},
   "outputs": [
    {
     "name": "stdout",
     "output_type": "stream",
     "text": [
      "['Hello', 'World', 'Open']\n"
     ]
    }
   ],
   "source": [
    "# Example usage\n",
    "string = 'Hello World, OpenAI'\n",
    "result = find_sequences_of_uppercase_followed_by_lowercase(string)\n",
    "print(result)"
   ]
  },
  {
   "cell_type": "markdown",
   "id": "331f5c3b",
   "metadata": {},
   "source": [
    "Question 25: Python program to remove duplicate words from a sentence using regular expressions\n"
   ]
  },
  {
   "cell_type": "code",
   "execution_count": 51,
   "id": "00cb7745",
   "metadata": {},
   "outputs": [],
   "source": [
    "import re"
   ]
  },
  {
   "cell_type": "code",
   "execution_count": 52,
   "id": "688eb653",
   "metadata": {},
   "outputs": [],
   "source": [
    "def remove_duplicate_words(sentence):\n",
    "    pattern = r'\\b(\\w+)\\b\\s+(?=.*\\b\\1\\b)'\n",
    "    result = re.sub(pattern, '', sentence)\n",
    "    return result\n"
   ]
  },
  {
   "cell_type": "code",
   "execution_count": 53,
   "id": "cb0eeb5a",
   "metadata": {},
   "outputs": [
    {
     "name": "stdout",
     "output_type": "stream",
     "text": [
      "The quick brown jumps over the lazy fox.\n"
     ]
    }
   ],
   "source": [
    "# Example usage\n",
    "sentence = 'The quick brown fox jumps over the lazy fox.'\n",
    "new_sentence = remove_duplicate_words(sentence)\n",
    "print(new_sentence) "
   ]
  },
  {
   "cell_type": "markdown",
   "id": "fe61f9a7",
   "metadata": {},
   "source": [
    "Question 26: Python program using RegEx to accept a string ending with an alphanumeric character"
   ]
  },
  {
   "cell_type": "code",
   "execution_count": 54,
   "id": "0fdeebcd",
   "metadata": {},
   "outputs": [],
   "source": [
    "import re\n"
   ]
  },
  {
   "cell_type": "code",
   "execution_count": 55,
   "id": "aafac267",
   "metadata": {},
   "outputs": [],
   "source": [
    "def accept_string_ending_with_alphanumeric(string):\n",
    "    pattern = r'^.*[a-zA-Z0-9]$'\n",
    "    if re.match(pattern, string):\n",
    "        print(\"Accepted.\")\n",
    "    else:\n",
    "        print(\"Not accepted.\")"
   ]
  },
  {
   "cell_type": "code",
   "execution_count": 56,
   "id": "37a346f4",
   "metadata": {},
   "outputs": [
    {
     "name": "stdout",
     "output_type": "stream",
     "text": [
      "Accepted.\n",
      "Not accepted.\n"
     ]
    }
   ],
   "source": [
    "# Example usage\n",
    "accept_string_ending_with_alphanumeric(\"Hello123\")\n",
    "accept_string_ending_with_alphanumeric(\"Hello@\")"
   ]
  },
  {
   "cell_type": "markdown",
   "id": "843789b4",
   "metadata": {},
   "source": [
    "Question 27: Python program using RegEx to extract hashtags\n"
   ]
  },
  {
   "cell_type": "code",
   "execution_count": 58,
   "id": "8ecef036",
   "metadata": {},
   "outputs": [],
   "source": [
    "import re"
   ]
  },
  {
   "cell_type": "code",
   "execution_count": 59,
   "id": "abf00f9d",
   "metadata": {},
   "outputs": [],
   "source": [
    "def extract_hashtags(text):\n",
    "    pattern = r'#[a-zA-Z0-9_]+'\n",
    "    hashtags = re.findall(pattern, text)\n",
    "    return hashtags\n"
   ]
  },
  {
   "cell_type": "code",
   "execution_count": 60,
   "id": "05e416d9",
   "metadata": {},
   "outputs": [
    {
     "name": "stdout",
     "output_type": "stream",
     "text": [
      "['#Doltiwal', '#xyzabc', '#Demonetization']\n"
     ]
    }
   ],
   "source": [
    "# Example usage\n",
    "text = \"RT @kapil_kausik: #Doltiwal I mean #xyzabc is \\\"hurt\\\" by #Demonetization as the same has rendered USELESS <ed><U+00A0><U+00BD><ed><U+00B1><U+0089> \\\"acquired funds\\\" No wo\"\n",
    "hashtags = extract_hashtags(text)\n",
    "print(hashtags)"
   ]
  },
  {
   "cell_type": "markdown",
   "id": "e10849df",
   "metadata": {},
   "source": [
    "Question 28: Python program using RegEx to remove `<U+..>` like symbols\n"
   ]
  },
  {
   "cell_type": "code",
   "execution_count": 62,
   "id": "25b6794e",
   "metadata": {},
   "outputs": [],
   "source": [
    "import re\n"
   ]
  },
  {
   "cell_type": "code",
   "execution_count": 63,
   "id": "23896b6a",
   "metadata": {},
   "outputs": [],
   "source": [
    "def remove_symbols(text):\n",
    "    pattern = r'<U\\+\\w+>'\n",
    "    result = re.sub(pattern, '', text)\n",
    "    return result"
   ]
  },
  {
   "cell_type": "code",
   "execution_count": 64,
   "id": "8ef6a44b",
   "metadata": {},
   "outputs": [
    {
     "name": "stdout",
     "output_type": "stream",
     "text": [
      "@Jags123456 Bharat band on 28??<ed><ed>Those who are protesting #demonetization are all different party leaders\n"
     ]
    }
   ],
   "source": [
    "# Example usage\n",
    "text = \"@Jags123456 Bharat band on 28??<ed><U+00A0><U+00BD><ed><U+00B8><U+0082>Those who are protesting #demonetization are all different party leaders\"\n",
    "output = remove_symbols(text)\n",
    "print(output)"
   ]
  },
  {
   "cell_type": "markdown",
   "id": "f72fbb01",
   "metadata": {},
   "source": [
    "Question 29: Python program to extract dates from a text stored in a text file\n"
   ]
  },
  {
   "cell_type": "code",
   "execution_count": 3,
   "id": "80b78458",
   "metadata": {},
   "outputs": [],
   "source": [
    "import re\n"
   ]
  },
  {
   "cell_type": "code",
   "execution_count": 4,
   "id": "91e32d4c",
   "metadata": {},
   "outputs": [],
   "source": [
    "def extract_dates_from_text_file(file_path):\n",
    "    with open(file_path, 'r') as file:\n",
    "        text = file.read()\n",
    "    pattern = r'\\b\\d{2}-\\d{2}-\\d{4}\\b'\n",
    "    dates = re.findall(pattern, text)\n",
    "    return dates"
   ]
  },
  {
   "cell_type": "code",
   "execution_count": 6,
   "id": "c1fa18df",
   "metadata": {},
   "outputs": [
    {
     "name": "stdout",
     "output_type": "stream",
     "text": [
      "['12-09-1992', '15-12-1999']\n"
     ]
    }
   ],
   "source": [
    "# Example usage\n",
    "file_path = 'demofile.txt'\n",
    "dates = extract_dates_from_text_file(\"D:\\Python\\demofile.txt\")\n",
    "print(dates)"
   ]
  },
  {
   "cell_type": "markdown",
   "id": "aa50858d",
   "metadata": {},
   "source": [
    "Question 30: Python program to replace all occurrences of a space, comma, or dot with a colon\n"
   ]
  },
  {
   "cell_type": "markdown",
   "id": "566e0f95",
   "metadata": {},
   "source": []
  },
  {
   "cell_type": "code",
   "execution_count": 70,
   "id": "d7f94771",
   "metadata": {},
   "outputs": [],
   "source": [
    "import re"
   ]
  },
  {
   "cell_type": "code",
   "execution_count": 71,
   "id": "fc000216",
   "metadata": {},
   "outputs": [],
   "source": [
    "def replace_space_comma_dot_with_colon(text):\n",
    "    pattern = r'[ ,.]'\n",
    "    result = re.sub(pattern, ':', text)\n",
    "    return result\n"
   ]
  },
  {
   "cell_type": "code",
   "execution_count": 72,
   "id": "f46efcc0",
   "metadata": {},
   "outputs": [
    {
     "name": "stdout",
     "output_type": "stream",
     "text": [
      "Python:Exercises::PHP:exercises:\n"
     ]
    }
   ],
   "source": [
    "# Example usage\n",
    "text = 'Python Exercises, PHP exercises.'\n",
    "output = replace_space_comma_dot_with_colon(text)\n",
    "print(output)"
   ]
  },
  {
   "cell_type": "code",
   "execution_count": null,
   "id": "4fd54a8c",
   "metadata": {},
   "outputs": [],
   "source": []
  }
 ],
 "metadata": {
  "kernelspec": {
   "display_name": "Python 3 (ipykernel)",
   "language": "python",
   "name": "python3"
  },
  "language_info": {
   "codemirror_mode": {
    "name": "ipython",
    "version": 3
   },
   "file_extension": ".py",
   "mimetype": "text/x-python",
   "name": "python",
   "nbconvert_exporter": "python",
   "pygments_lexer": "ipython3",
   "version": "3.9.13"
  }
 },
 "nbformat": 4,
 "nbformat_minor": 5
}
