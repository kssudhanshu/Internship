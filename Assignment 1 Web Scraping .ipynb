{
 "cells": [
  {
   "cell_type": "markdown",
   "id": "3be52da0",
   "metadata": {},
   "source": [
    "# ASSIGNMENT-1 WEB SCRAPING |Intern Name - Sudhanshu Kumar Singh"
   ]
  },
  {
   "cell_type": "code",
   "execution_count": null,
   "id": "52c9d802",
   "metadata": {},
   "outputs": [],
   "source": [
    "1.Write a python program to display all the header tags from wikipedia.org and make data frame"
   ]
  },
  {
   "cell_type": "code",
   "execution_count": 38,
   "id": "6e3586a9",
   "metadata": {},
   "outputs": [
    {
     "name": "stdout",
     "output_type": "stream",
     "text": [
      "Requirement already satisfied: beautifulsoup4 in c:\\users\\sudhanshu\\anaconda3\\lib\\site-packages (4.11.1)\n",
      "Requirement already satisfied: pandas in c:\\users\\sudhanshu\\anaconda3\\lib\\site-packages (1.4.4)\n",
      "Requirement already satisfied: soupsieve>1.2 in c:\\users\\sudhanshu\\anaconda3\\lib\\site-packages (from beautifulsoup4) (2.3.1)\n",
      "Requirement already satisfied: python-dateutil>=2.8.1 in c:\\users\\sudhanshu\\anaconda3\\lib\\site-packages (from pandas) (2.8.2)\n",
      "Requirement already satisfied: numpy>=1.18.5 in c:\\users\\sudhanshu\\anaconda3\\lib\\site-packages (from pandas) (1.21.5)\n",
      "Requirement already satisfied: pytz>=2020.1 in c:\\users\\sudhanshu\\anaconda3\\lib\\site-packages (from pandas) (2022.1)\n",
      "Requirement already satisfied: six>=1.5 in c:\\users\\sudhanshu\\anaconda3\\lib\\site-packages (from python-dateutil>=2.8.1->pandas) (1.16.0)\n",
      "Note: you may need to restart the kernel to use updated packages.\n"
     ]
    }
   ],
   "source": [
    "pip install beautifulsoup4 pandas"
   ]
  },
  {
   "cell_type": "code",
   "execution_count": 39,
   "id": "78c77a13",
   "metadata": {},
   "outputs": [],
   "source": [
    "#importing the required libraries \n",
    "from bs4 import BeautifulSoup\n",
    "import requests\n",
    "import pandas as pd "
   ]
  },
  {
   "cell_type": "code",
   "execution_count": 40,
   "id": "783c59d3",
   "metadata": {},
   "outputs": [],
   "source": [
    "url='https://en.wikipedia.org/wiki/Main_Page'"
   ]
  },
  {
   "cell_type": "code",
   "execution_count": 41,
   "id": "906ee47b",
   "metadata": {},
   "outputs": [],
   "source": [
    "response=requests.get(url)"
   ]
  },
  {
   "cell_type": "code",
   "execution_count": 42,
   "id": "05f25dd6",
   "metadata": {},
   "outputs": [
    {
     "data": {
      "text/plain": [
       "<Response [200]>"
      ]
     },
     "execution_count": 42,
     "metadata": {},
     "output_type": "execute_result"
    }
   ],
   "source": [
    "response"
   ]
  },
  {
   "cell_type": "code",
   "execution_count": 43,
   "id": "69f1fe02",
   "metadata": {},
   "outputs": [],
   "source": [
    "soup=BeautifulSoup(response.content)\n",
    "#soup"
   ]
  },
  {
   "cell_type": "code",
   "execution_count": 44,
   "id": "22069d66",
   "metadata": {},
   "outputs": [],
   "source": [
    "#Etract header tags\n",
    "header_tags=soup.find(['h1'])\n",
    "#header_tags\n"
   ]
  },
  {
   "cell_type": "code",
   "execution_count": 45,
   "id": "b162dbc1",
   "metadata": {},
   "outputs": [],
   "source": [
    "#Find the all header tags (h1 to h6)\n",
    "header_tags=soup.find_all([\"h1\",\"h2\",\"h3\",\"h4\",\"h5\",\"h6\"])"
   ]
  },
  {
   "cell_type": "code",
   "execution_count": 46,
   "id": "427e026f",
   "metadata": {},
   "outputs": [],
   "source": [
    "#Extract the text content of the header tags\n",
    "header_tags = [tag.get_text() for tag in header_tags]"
   ]
  },
  {
   "cell_type": "code",
   "execution_count": 47,
   "id": "53681e96",
   "metadata": {},
   "outputs": [
    {
     "data": {
      "text/html": [
       "<div>\n",
       "<style scoped>\n",
       "    .dataframe tbody tr th:only-of-type {\n",
       "        vertical-align: middle;\n",
       "    }\n",
       "\n",
       "    .dataframe tbody tr th {\n",
       "        vertical-align: top;\n",
       "    }\n",
       "\n",
       "    .dataframe thead th {\n",
       "        text-align: right;\n",
       "    }\n",
       "</style>\n",
       "<table border=\"1\" class=\"dataframe\">\n",
       "  <thead>\n",
       "    <tr style=\"text-align: right;\">\n",
       "      <th></th>\n",
       "      <th>Headers</th>\n",
       "    </tr>\n",
       "  </thead>\n",
       "  <tbody>\n",
       "    <tr>\n",
       "      <th>0</th>\n",
       "      <td>Main Page</td>\n",
       "    </tr>\n",
       "    <tr>\n",
       "      <th>1</th>\n",
       "      <td>Welcome to Wikipedia</td>\n",
       "    </tr>\n",
       "    <tr>\n",
       "      <th>2</th>\n",
       "      <td>From today's featured article</td>\n",
       "    </tr>\n",
       "    <tr>\n",
       "      <th>3</th>\n",
       "      <td>Did you know ...</td>\n",
       "    </tr>\n",
       "    <tr>\n",
       "      <th>4</th>\n",
       "      <td>In the news</td>\n",
       "    </tr>\n",
       "    <tr>\n",
       "      <th>5</th>\n",
       "      <td>On this day</td>\n",
       "    </tr>\n",
       "    <tr>\n",
       "      <th>6</th>\n",
       "      <td>Today's featured picture</td>\n",
       "    </tr>\n",
       "    <tr>\n",
       "      <th>7</th>\n",
       "      <td>Other areas of Wikipedia</td>\n",
       "    </tr>\n",
       "    <tr>\n",
       "      <th>8</th>\n",
       "      <td>Wikipedia's sister projects</td>\n",
       "    </tr>\n",
       "    <tr>\n",
       "      <th>9</th>\n",
       "      <td>Wikipedia languages</td>\n",
       "    </tr>\n",
       "  </tbody>\n",
       "</table>\n",
       "</div>"
      ],
      "text/plain": [
       "                         Headers\n",
       "0                      Main Page\n",
       "1           Welcome to Wikipedia\n",
       "2  From today's featured article\n",
       "3               Did you know ...\n",
       "4                    In the news\n",
       "5                    On this day\n",
       "6       Today's featured picture\n",
       "7       Other areas of Wikipedia\n",
       "8    Wikipedia's sister projects\n",
       "9            Wikipedia languages"
      ]
     },
     "execution_count": 47,
     "metadata": {},
     "output_type": "execute_result"
    }
   ],
   "source": [
    "# Making a dataframe from the header texts\n",
    "df = pd.DataFrame({\"Headers\": header_tags})\n",
    "df"
   ]
  },
  {
   "cell_type": "markdown",
   "id": "0d451894",
   "metadata": {},
   "source": [
    "2) Write s python program to display list of respected former presidents of India(i.e. Name , Term ofoffice)\n",
    "from https://presidentofindia.nic.in/former-presidents.htm and make data frame"
   ]
  },
  {
   "cell_type": "code",
   "execution_count": 1,
   "id": "4aea1bd5",
   "metadata": {},
   "outputs": [],
   "source": [
    "#importing the required libraries \n",
    "from bs4 import BeautifulSoup\n",
    "import requests\n",
    "import pandas as pd "
   ]
  },
  {
   "cell_type": "code",
   "execution_count": 2,
   "id": "0ad7a4ee",
   "metadata": {},
   "outputs": [],
   "source": [
    "url=\"https://presidentofindia.nic.in/former-presidents.htm\""
   ]
  },
  {
   "cell_type": "code",
   "execution_count": 3,
   "id": "53e90477",
   "metadata": {},
   "outputs": [],
   "source": [
    "page=requests.get(url)"
   ]
  },
  {
   "cell_type": "code",
   "execution_count": 4,
   "id": "f32f2e0b",
   "metadata": {},
   "outputs": [
    {
     "data": {
      "text/plain": [
       "<Response [200]>"
      ]
     },
     "execution_count": 4,
     "metadata": {},
     "output_type": "execute_result"
    }
   ],
   "source": [
    "page"
   ]
  },
  {
   "cell_type": "code",
   "execution_count": 5,
   "id": "fb122cdb",
   "metadata": {},
   "outputs": [],
   "source": [
    "soup=BeautifulSoup(page.content)\n",
    "#soup"
   ]
  },
  {
   "cell_type": "code",
   "execution_count": 6,
   "id": "a8d9f2d9",
   "metadata": {},
   "outputs": [],
   "source": [
    "former_president=soup.find_all('div',class_=\"presidentListing\")"
   ]
  },
  {
   "cell_type": "code",
   "execution_count": 9,
   "id": "51d6248f",
   "metadata": {},
   "outputs": [],
   "source": [
    "Name=[]\n",
    "for i in soup.find_all('h3'):\n",
    "    Name.append(i.get_text(strip=True).split('(')[0])"
   ]
  },
  {
   "cell_type": "code",
   "execution_count": 11,
   "id": "c7a184ad",
   "metadata": {},
   "outputs": [],
   "source": [
    "#Name"
   ]
  },
  {
   "cell_type": "code",
   "execution_count": 12,
   "id": "8af82718",
   "metadata": {},
   "outputs": [
    {
     "name": "stdout",
     "output_type": "stream",
     "text": [
      "14\n"
     ]
    }
   ],
   "source": [
    "print(len(Name))"
   ]
  },
  {
   "cell_type": "code",
   "execution_count": 14,
   "id": "ec341865",
   "metadata": {},
   "outputs": [],
   "source": [
    "Term=[]\n",
    "for i in soup.find_all('p'):\n",
    "    Term.append(i.get_text(strip=True))"
   ]
  },
  {
   "cell_type": "code",
   "execution_count": 15,
   "id": "892d26d3",
   "metadata": {},
   "outputs": [],
   "source": [
    "#Term"
   ]
  },
  {
   "cell_type": "code",
   "execution_count": 16,
   "id": "d832e350",
   "metadata": {},
   "outputs": [
    {
     "data": {
      "text/plain": [
       "'https://ramnathkovind.nic.in'"
      ]
     },
     "execution_count": 16,
     "metadata": {},
     "output_type": "execute_result"
    }
   ],
   "source": [
    "Term.pop(1) # using pop to remove extra data and equlising to lenght"
   ]
  },
  {
   "cell_type": "code",
   "execution_count": 17,
   "id": "eefba4a9",
   "metadata": {},
   "outputs": [
    {
     "data": {
      "text/plain": [
       "'http://pranabmukherjee.nic.in'"
      ]
     },
     "execution_count": 17,
     "metadata": {},
     "output_type": "execute_result"
    }
   ],
   "source": [
    "Term.pop(2)"
   ]
  },
  {
   "cell_type": "code",
   "execution_count": 18,
   "id": "5eb11825",
   "metadata": {},
   "outputs": [
    {
     "data": {
      "text/plain": [
       "'http://pratibhapatil.nic.in'"
      ]
     },
     "execution_count": 18,
     "metadata": {},
     "output_type": "execute_result"
    }
   ],
   "source": [
    "Term.pop(3)"
   ]
  },
  {
   "cell_type": "code",
   "execution_count": 19,
   "id": "301ea54b",
   "metadata": {},
   "outputs": [
    {
     "data": {
      "text/plain": [
       "'http://abdulkalam.nic.in'"
      ]
     },
     "execution_count": 19,
     "metadata": {},
     "output_type": "execute_result"
    }
   ],
   "source": [
    "Term.pop(4)"
   ]
  },
  {
   "cell_type": "code",
   "execution_count": 20,
   "id": "a1c3a455",
   "metadata": {},
   "outputs": [
    {
     "data": {
      "text/plain": [
       "'Copyright © 2022 The Rashtrapati Bhavan.'"
      ]
     },
     "execution_count": 20,
     "metadata": {},
     "output_type": "execute_result"
    }
   ],
   "source": [
    "Term.pop(14)"
   ]
  },
  {
   "cell_type": "code",
   "execution_count": 21,
   "id": "dc35cfec",
   "metadata": {},
   "outputs": [
    {
     "data": {
      "text/plain": [
       "'Page last updated on:22-July-2022 15:58 PM'"
      ]
     },
     "execution_count": 21,
     "metadata": {},
     "output_type": "execute_result"
    }
   ],
   "source": [
    "Term.pop(14)"
   ]
  },
  {
   "cell_type": "code",
   "execution_count": 22,
   "id": "6a394984",
   "metadata": {},
   "outputs": [
    {
     "data": {
      "text/plain": [
       "\"Website hosted by National Informatics Centre. Website Content provided by the President's Secretariat.\""
      ]
     },
     "execution_count": 22,
     "metadata": {},
     "output_type": "execute_result"
    }
   ],
   "source": [
    "Term.pop(14)"
   ]
  },
  {
   "cell_type": "code",
   "execution_count": 23,
   "id": "d4ca381a",
   "metadata": {},
   "outputs": [
    {
     "data": {
      "text/plain": [
       "['Term of Office:25 July, 2017 to 25 July, 2022',\n",
       " 'Term of Office:25 July, 2012 to 25 July, 2017',\n",
       " 'Term of Office:25 July, 2007 to 25 July, 2012',\n",
       " 'Term of Office:25 July, 2002 to 25 July, 2007',\n",
       " 'Term of Office:25 July, 1997 to 25 July, 2002',\n",
       " 'Term of Office:25 July, 1992 to 25 July, 1997',\n",
       " 'Term of Office:25 July, 1987 to 25 July, 1992',\n",
       " 'Term of Office:25 July, 1982 to 25 July, 1987',\n",
       " 'Term of Office:25 July, 1977 to 25 July, 1982',\n",
       " 'Term of Office:24 August, 1974 to 11 February, 1977',\n",
       " 'Term of Office:3 May, 1969 to 20 July, 1969 and 24 August, 1969 to 24 August, 1974',\n",
       " 'Term of Office:13 May, 1967 to 3 May, 1969',\n",
       " 'Term of Office:13 May, 1962 to 13 May, 1967',\n",
       " 'Term of Office:26 January, 1950 to 13 May, 1962']"
      ]
     },
     "execution_count": 23,
     "metadata": {},
     "output_type": "execute_result"
    }
   ],
   "source": [
    "Term"
   ]
  },
  {
   "cell_type": "code",
   "execution_count": 24,
   "id": "5d35c986",
   "metadata": {},
   "outputs": [
    {
     "name": "stdout",
     "output_type": "stream",
     "text": [
      "14\n"
     ]
    }
   ],
   "source": [
    "print(len(Term))"
   ]
  },
  {
   "cell_type": "code",
   "execution_count": 25,
   "id": "d0256ef6",
   "metadata": {},
   "outputs": [],
   "source": [
    "data={\"Name\":Name,\"Term\":Term} # creating data frame"
   ]
  },
  {
   "cell_type": "code",
   "execution_count": 26,
   "id": "2fe91eb4",
   "metadata": {},
   "outputs": [],
   "source": [
    "df=pd.DataFrame(data)"
   ]
  },
  {
   "cell_type": "code",
   "execution_count": 27,
   "id": "776a8e20",
   "metadata": {},
   "outputs": [
    {
     "data": {
      "text/html": [
       "<div>\n",
       "<style scoped>\n",
       "    .dataframe tbody tr th:only-of-type {\n",
       "        vertical-align: middle;\n",
       "    }\n",
       "\n",
       "    .dataframe tbody tr th {\n",
       "        vertical-align: top;\n",
       "    }\n",
       "\n",
       "    .dataframe thead th {\n",
       "        text-align: right;\n",
       "    }\n",
       "</style>\n",
       "<table border=\"1\" class=\"dataframe\">\n",
       "  <thead>\n",
       "    <tr style=\"text-align: right;\">\n",
       "      <th></th>\n",
       "      <th>Name</th>\n",
       "      <th>Term</th>\n",
       "    </tr>\n",
       "  </thead>\n",
       "  <tbody>\n",
       "    <tr>\n",
       "      <th>0</th>\n",
       "      <td>Shri Ram Nath Kovind</td>\n",
       "      <td>Term of Office:25 July, 2017 to 25 July, 2022</td>\n",
       "    </tr>\n",
       "    <tr>\n",
       "      <th>1</th>\n",
       "      <td>Shri Pranab Mukherjee</td>\n",
       "      <td>Term of Office:25 July, 2012 to 25 July, 2017</td>\n",
       "    </tr>\n",
       "    <tr>\n",
       "      <th>2</th>\n",
       "      <td>Smt Pratibha Devisingh Patil</td>\n",
       "      <td>Term of Office:25 July, 2007 to 25 July, 2012</td>\n",
       "    </tr>\n",
       "    <tr>\n",
       "      <th>3</th>\n",
       "      <td>DR. A.P.J. Abdul Kalam</td>\n",
       "      <td>Term of Office:25 July, 2002 to 25 July, 2007</td>\n",
       "    </tr>\n",
       "    <tr>\n",
       "      <th>4</th>\n",
       "      <td>Shri K. R. Narayanan</td>\n",
       "      <td>Term of Office:25 July, 1997 to 25 July, 2002</td>\n",
       "    </tr>\n",
       "    <tr>\n",
       "      <th>5</th>\n",
       "      <td>Dr Shankar Dayal Sharma</td>\n",
       "      <td>Term of Office:25 July, 1992 to 25 July, 1997</td>\n",
       "    </tr>\n",
       "    <tr>\n",
       "      <th>6</th>\n",
       "      <td>Shri R Venkataraman</td>\n",
       "      <td>Term of Office:25 July, 1987 to 25 July, 1992</td>\n",
       "    </tr>\n",
       "    <tr>\n",
       "      <th>7</th>\n",
       "      <td>Giani Zail Singh</td>\n",
       "      <td>Term of Office:25 July, 1982 to 25 July, 1987</td>\n",
       "    </tr>\n",
       "    <tr>\n",
       "      <th>8</th>\n",
       "      <td>Shri Neelam Sanjiva Reddy</td>\n",
       "      <td>Term of Office:25 July, 1977 to 25 July, 1982</td>\n",
       "    </tr>\n",
       "    <tr>\n",
       "      <th>9</th>\n",
       "      <td>Dr. Fakhruddin Ali Ahmed</td>\n",
       "      <td>Term of Office:24 August, 1974 to 11 February,...</td>\n",
       "    </tr>\n",
       "    <tr>\n",
       "      <th>10</th>\n",
       "      <td>Shri Varahagiri Venkata Giri</td>\n",
       "      <td>Term of Office:3 May, 1969 to 20 July, 1969 an...</td>\n",
       "    </tr>\n",
       "    <tr>\n",
       "      <th>11</th>\n",
       "      <td>Dr. Zakir Husain</td>\n",
       "      <td>Term of Office:13 May, 1967 to 3 May, 1969</td>\n",
       "    </tr>\n",
       "    <tr>\n",
       "      <th>12</th>\n",
       "      <td>Dr. Sarvepalli Radhakrishnan</td>\n",
       "      <td>Term of Office:13 May, 1962 to 13 May, 1967</td>\n",
       "    </tr>\n",
       "    <tr>\n",
       "      <th>13</th>\n",
       "      <td>Dr. Rajendra Prasad</td>\n",
       "      <td>Term of Office:26 January, 1950 to 13 May, 1962</td>\n",
       "    </tr>\n",
       "  </tbody>\n",
       "</table>\n",
       "</div>"
      ],
      "text/plain": [
       "                             Name  \\\n",
       "0           Shri Ram Nath Kovind    \n",
       "1          Shri Pranab Mukherjee    \n",
       "2   Smt Pratibha Devisingh Patil    \n",
       "3         DR. A.P.J. Abdul Kalam    \n",
       "4           Shri K. R. Narayanan    \n",
       "5        Dr Shankar Dayal Sharma    \n",
       "6            Shri R Venkataraman    \n",
       "7               Giani Zail Singh    \n",
       "8      Shri Neelam Sanjiva Reddy    \n",
       "9       Dr. Fakhruddin Ali Ahmed    \n",
       "10  Shri Varahagiri Venkata Giri    \n",
       "11              Dr. Zakir Husain    \n",
       "12  Dr. Sarvepalli Radhakrishnan    \n",
       "13           Dr. Rajendra Prasad    \n",
       "\n",
       "                                                 Term  \n",
       "0       Term of Office:25 July, 2017 to 25 July, 2022  \n",
       "1       Term of Office:25 July, 2012 to 25 July, 2017  \n",
       "2       Term of Office:25 July, 2007 to 25 July, 2012  \n",
       "3       Term of Office:25 July, 2002 to 25 July, 2007  \n",
       "4       Term of Office:25 July, 1997 to 25 July, 2002  \n",
       "5       Term of Office:25 July, 1992 to 25 July, 1997  \n",
       "6       Term of Office:25 July, 1987 to 25 July, 1992  \n",
       "7       Term of Office:25 July, 1982 to 25 July, 1987  \n",
       "8       Term of Office:25 July, 1977 to 25 July, 1982  \n",
       "9   Term of Office:24 August, 1974 to 11 February,...  \n",
       "10  Term of Office:3 May, 1969 to 20 July, 1969 an...  \n",
       "11         Term of Office:13 May, 1967 to 3 May, 1969  \n",
       "12        Term of Office:13 May, 1962 to 13 May, 1967  \n",
       "13    Term of Office:26 January, 1950 to 13 May, 1962  "
      ]
     },
     "execution_count": 27,
     "metadata": {},
     "output_type": "execute_result"
    }
   ],
   "source": [
    "df"
   ]
  },
  {
   "cell_type": "markdown",
   "id": "b7b11d15",
   "metadata": {},
   "source": [
    "3) Write a python program to scrape cricket rankings from icc-cricket.com. You have to scrape and make data frame\u0002a) Top 10 ODI teams in men’s cricket along with the records for matches, points and rating.\n",
    "b) Top 10 ODI Batsmen along with the records of their team andrating.\n",
    "c) Top 10 ODI bowlers along with the records of their team andrating."
   ]
  },
  {
   "cell_type": "markdown",
   "id": "fd1bfa18",
   "metadata": {},
   "source": [
    "# a) Top 10 ODI teams in men’s cricket along with the records for matches, points and rating."
   ]
  },
  {
   "cell_type": "code",
   "execution_count": 68,
   "id": "e7b1e320",
   "metadata": {},
   "outputs": [],
   "source": [
    "#pip install html5lib"
   ]
  },
  {
   "cell_type": "code",
   "execution_count": null,
   "id": "bd19f5bd",
   "metadata": {},
   "outputs": [],
   "source": [
    "import pandas as pd\n",
    "import requests\n",
    "from bs4 import BeautifulSoup"
   ]
  },
  {
   "cell_type": "code",
   "execution_count": 69,
   "id": "13b4e31f",
   "metadata": {},
   "outputs": [],
   "source": [
    "url='https://www.icc-cricket.com/rankings/mens/team-rankings/odi'"
   ]
  },
  {
   "cell_type": "code",
   "execution_count": 70,
   "id": "1998e0bf",
   "metadata": {},
   "outputs": [],
   "source": [
    "response = requests.get(url)"
   ]
  },
  {
   "cell_type": "code",
   "execution_count": 71,
   "id": "7860f8ac",
   "metadata": {},
   "outputs": [],
   "source": [
    "soup = BeautifulSoup(response.content,'html.parser')"
   ]
  },
  {
   "cell_type": "code",
   "execution_count": 72,
   "id": "a460f3b4",
   "metadata": {},
   "outputs": [],
   "source": [
    "table = soup.find('table',class_='table') #find table team ranking "
   ]
  },
  {
   "cell_type": "code",
   "execution_count": 73,
   "id": "7d18dd2d",
   "metadata": {},
   "outputs": [],
   "source": [
    "#Empty list\n",
    "teams=[]\n",
    "matches=[]\n",
    "points=[]\n",
    "ratings=[]\n",
    "\n",
    "rows=table.tbody.find_all('tr')\n",
    "for row in rows:\n",
    "    team_name=row.find('span',class_='u-hide-phablet').text.strip()\n",
    "    teams.append(team_name)\n",
    "    \n",
    "    columns = row.find_all('td')\n",
    "    matches_played = columns[1].text.strip()\n",
    "    points_earned = columns[2].text.strip()\n",
    "    rating = columns[3].text.strip()\n",
    "\n",
    "    matches.append(matches_played)\n",
    "    points.append(points_earned)\n",
    "    ratings.append(rating)"
   ]
  },
  {
   "cell_type": "code",
   "execution_count": 74,
   "id": "dd174437",
   "metadata": {},
   "outputs": [],
   "source": [
    "data={'Team':teams,'Matches':matches,'Points':points,'Rating':ratings}"
   ]
  },
  {
   "cell_type": "code",
   "execution_count": 75,
   "id": "6c6c56cf",
   "metadata": {},
   "outputs": [],
   "source": [
    "df=pd.DataFrame(data)"
   ]
  },
  {
   "cell_type": "code",
   "execution_count": 76,
   "id": "4887f4c9",
   "metadata": {},
   "outputs": [
    {
     "name": "stdout",
     "output_type": "stream",
     "text": [
      "           Team           Matches Points Rating\n",
      "0     Australia    Australia\\nAUS     23  2,714\n",
      "1      Pakistan     Pakistan\\nPAK     20  2,316\n",
      "2         India        India\\nIND     33  3,807\n",
      "3   New Zealand   New Zealand\\nNZ     27  2,806\n",
      "4       England      England\\nENG     24  2,426\n",
      "5  South Africa  South Africa\\nSA     19  1,910\n",
      "6    Bangladesh   Bangladesh\\nBAN     27  2,520\n",
      "7   Afghanistan  Afghanistan\\nAFG     15  1,361\n",
      "8     Sri Lanka     Sri Lanka\\nSL     32  2,794\n",
      "9   West Indies   West Indies\\nWI     35  2,312\n"
     ]
    }
   ],
   "source": [
    "top_10_teams=df.head(10)\n",
    "print(top_10_teams)"
   ]
  },
  {
   "cell_type": "markdown",
   "id": "e3fe55d9",
   "metadata": {},
   "source": [
    "# b) Top 10 ODI Batsmen along with the records of their team andrating."
   ]
  },
  {
   "cell_type": "code",
   "execution_count": 77,
   "id": "71cada9e",
   "metadata": {},
   "outputs": [],
   "source": [
    "import requests\n",
    "from bs4 import BeautifulSoup\n",
    "import pandas as pd "
   ]
  },
  {
   "cell_type": "code",
   "execution_count": 78,
   "id": "c543652f",
   "metadata": {},
   "outputs": [],
   "source": [
    "url='https://www.icc-cricket.com/rankings/mens/player-rankings/odi'"
   ]
  },
  {
   "cell_type": "code",
   "execution_count": 79,
   "id": "8aa071ed",
   "metadata": {},
   "outputs": [],
   "source": [
    "response = requests.get(url)"
   ]
  },
  {
   "cell_type": "code",
   "execution_count": 80,
   "id": "82a7bce9",
   "metadata": {},
   "outputs": [],
   "source": [
    "soup = BeautifulSoup(response.content, \"html.parser\")"
   ]
  },
  {
   "cell_type": "code",
   "execution_count": 81,
   "id": "e6c45a07",
   "metadata": {},
   "outputs": [],
   "source": [
    "table=soup.find('table',class_='table')"
   ]
  },
  {
   "cell_type": "code",
   "execution_count": 82,
   "id": "136ee4a6",
   "metadata": {},
   "outputs": [],
   "source": [
    "rows=table.find_all('tr')\n",
    "#rows"
   ]
  },
  {
   "cell_type": "code",
   "execution_count": 83,
   "id": "01068d4c",
   "metadata": {},
   "outputs": [],
   "source": [
    "\n",
    "players=[]\n",
    "teams=[]\n",
    "ratings=[]\n",
    "\n",
    "#extract the data from table \n",
    "for row in rows[1:11]: # top 10 player \n",
    "    cells=row.find_all('td')\n",
    "    player=cells[1].text.strip()\n",
    "    team=cells[2].text.strip()\n",
    "    rating=cells[3].text.strip()\n",
    "    players.append(player)\n",
    "    teams.append(team)\n",
    "    ratings.append(rating)\n"
   ]
  },
  {
   "cell_type": "code",
   "execution_count": 84,
   "id": "e63f461b",
   "metadata": {},
   "outputs": [],
   "source": [
    "data = {'player':players,'Team':teams,'Ratings':rating}"
   ]
  },
  {
   "cell_type": "code",
   "execution_count": 85,
   "id": "c75cb686",
   "metadata": {},
   "outputs": [],
   "source": [
    "df = pd.DataFrame(data)\n"
   ]
  },
  {
   "cell_type": "code",
   "execution_count": 86,
   "id": "4380b16e",
   "metadata": {},
   "outputs": [
    {
     "data": {
      "text/html": [
       "<div>\n",
       "<style scoped>\n",
       "    .dataframe tbody tr th:only-of-type {\n",
       "        vertical-align: middle;\n",
       "    }\n",
       "\n",
       "    .dataframe tbody tr th {\n",
       "        vertical-align: top;\n",
       "    }\n",
       "\n",
       "    .dataframe thead th {\n",
       "        text-align: right;\n",
       "    }\n",
       "</style>\n",
       "<table border=\"1\" class=\"dataframe\">\n",
       "  <thead>\n",
       "    <tr style=\"text-align: right;\">\n",
       "      <th></th>\n",
       "      <th>player</th>\n",
       "      <th>Team</th>\n",
       "      <th>Ratings</th>\n",
       "    </tr>\n",
       "  </thead>\n",
       "  <tbody>\n",
       "    <tr>\n",
       "      <th>0</th>\n",
       "      <td>Rassie van der Dussen</td>\n",
       "      <td>SA</td>\n",
       "      <td>707</td>\n",
       "    </tr>\n",
       "    <tr>\n",
       "      <th>1</th>\n",
       "      <td>Fakhar Zaman</td>\n",
       "      <td>PAK</td>\n",
       "      <td>707</td>\n",
       "    </tr>\n",
       "    <tr>\n",
       "      <th>2</th>\n",
       "      <td>Imam-ul-Haq</td>\n",
       "      <td>PAK</td>\n",
       "      <td>707</td>\n",
       "    </tr>\n",
       "    <tr>\n",
       "      <th>3</th>\n",
       "      <td>Shubman Gill</td>\n",
       "      <td>IND</td>\n",
       "      <td>707</td>\n",
       "    </tr>\n",
       "    <tr>\n",
       "      <th>4</th>\n",
       "      <td>Harry Tector</td>\n",
       "      <td>IRE</td>\n",
       "      <td>707</td>\n",
       "    </tr>\n",
       "    <tr>\n",
       "      <th>5</th>\n",
       "      <td>David Warner</td>\n",
       "      <td>AUS</td>\n",
       "      <td>707</td>\n",
       "    </tr>\n",
       "    <tr>\n",
       "      <th>6</th>\n",
       "      <td>Virat Kohli</td>\n",
       "      <td>IND</td>\n",
       "      <td>707</td>\n",
       "    </tr>\n",
       "    <tr>\n",
       "      <th>7</th>\n",
       "      <td>Quinton de Kock</td>\n",
       "      <td>SA</td>\n",
       "      <td>707</td>\n",
       "    </tr>\n",
       "    <tr>\n",
       "      <th>8</th>\n",
       "      <td>Rohit Sharma</td>\n",
       "      <td>IND</td>\n",
       "      <td>707</td>\n",
       "    </tr>\n",
       "  </tbody>\n",
       "</table>\n",
       "</div>"
      ],
      "text/plain": [
       "                  player Team Ratings\n",
       "0  Rassie van der Dussen   SA     707\n",
       "1           Fakhar Zaman  PAK     707\n",
       "2            Imam-ul-Haq  PAK     707\n",
       "3           Shubman Gill  IND     707\n",
       "4           Harry Tector  IRE     707\n",
       "5           David Warner  AUS     707\n",
       "6            Virat Kohli  IND     707\n",
       "7        Quinton de Kock   SA     707\n",
       "8           Rohit Sharma  IND     707"
      ]
     },
     "execution_count": 86,
     "metadata": {},
     "output_type": "execute_result"
    }
   ],
   "source": [
    "df"
   ]
  },
  {
   "cell_type": "markdown",
   "id": "71cecffe",
   "metadata": {},
   "source": [
    "# c) Top 10 ODI bowlers along with the records of their team andrating."
   ]
  },
  {
   "cell_type": "code",
   "execution_count": 87,
   "id": "2ab508b2",
   "metadata": {},
   "outputs": [],
   "source": [
    "import requests\n",
    "from bs4 import BeautifulSoup\n",
    "import pandas as pd "
   ]
  },
  {
   "cell_type": "code",
   "execution_count": 88,
   "id": "001a0f6f",
   "metadata": {},
   "outputs": [],
   "source": [
    "url='https://www.icc-cricket.com/rankings/mens/player-rankings/odi/bowling'"
   ]
  },
  {
   "cell_type": "code",
   "execution_count": 89,
   "id": "2dad82be",
   "metadata": {},
   "outputs": [],
   "source": [
    "bowler_response=requests.get(url)\n",
    "#response    "
   ]
  },
  {
   "cell_type": "code",
   "execution_count": 90,
   "id": "a19636f1",
   "metadata": {},
   "outputs": [],
   "source": [
    "bowler_soup=BeautifulSoup(bowler_response.text,'html.parser')"
   ]
  },
  {
   "cell_type": "code",
   "execution_count": 91,
   "id": "44adade8",
   "metadata": {},
   "outputs": [],
   "source": [
    "bowler_table=bowler_soup.find('table',class_='table')"
   ]
  },
  {
   "cell_type": "code",
   "execution_count": 92,
   "id": "b5409ffb",
   "metadata": {},
   "outputs": [],
   "source": [
    "bowler_row=bowler_table.find_all('tr')"
   ]
  },
  {
   "cell_type": "code",
   "execution_count": 93,
   "id": "bcd59582",
   "metadata": {},
   "outputs": [],
   "source": [
    "bowlers=[]\n",
    "teams=[]\n",
    "ratings=[]\n",
    "\n",
    "#extract the data from table \n",
    "    \n",
    "for row in bowler_row[1:11]:\n",
    "    columns=row.find_all('td')\n",
    "    bowler=columns[1].text.strip()\n",
    "    team=columns[2].text.strip()\n",
    "    rating=columns[3].text.strip()\n",
    "    bowlers.append(bowler)\n",
    "    teams.append(team)\n",
    "    ratings.append(rating)"
   ]
  },
  {
   "cell_type": "code",
   "execution_count": 94,
   "id": "245ce129",
   "metadata": {},
   "outputs": [],
   "source": [
    "bowler_data={'Bowler': bowlers,'Team':teams,'Rating':ratings}"
   ]
  },
  {
   "cell_type": "code",
   "execution_count": 95,
   "id": "dc204a4e",
   "metadata": {},
   "outputs": [],
   "source": [
    "df=pd.DataFrame(bowler_data)"
   ]
  },
  {
   "cell_type": "code",
   "execution_count": 96,
   "id": "9c8eb59f",
   "metadata": {},
   "outputs": [
    {
     "data": {
      "text/html": [
       "<div>\n",
       "<style scoped>\n",
       "    .dataframe tbody tr th:only-of-type {\n",
       "        vertical-align: middle;\n",
       "    }\n",
       "\n",
       "    .dataframe tbody tr th {\n",
       "        vertical-align: top;\n",
       "    }\n",
       "\n",
       "    .dataframe thead th {\n",
       "        text-align: right;\n",
       "    }\n",
       "</style>\n",
       "<table border=\"1\" class=\"dataframe\">\n",
       "  <thead>\n",
       "    <tr style=\"text-align: right;\">\n",
       "      <th></th>\n",
       "      <th>Bowler</th>\n",
       "      <th>Team</th>\n",
       "      <th>Rating</th>\n",
       "    </tr>\n",
       "  </thead>\n",
       "  <tbody>\n",
       "    <tr>\n",
       "      <th>0</th>\n",
       "      <td>Josh Hazlewood</td>\n",
       "      <td>AUS</td>\n",
       "      <td>705</td>\n",
       "    </tr>\n",
       "    <tr>\n",
       "      <th>1</th>\n",
       "      <td>Mohammed Siraj</td>\n",
       "      <td>IND</td>\n",
       "      <td>691</td>\n",
       "    </tr>\n",
       "    <tr>\n",
       "      <th>2</th>\n",
       "      <td>Mitchell Starc</td>\n",
       "      <td>AUS</td>\n",
       "      <td>686</td>\n",
       "    </tr>\n",
       "    <tr>\n",
       "      <th>3</th>\n",
       "      <td>Matt Henry</td>\n",
       "      <td>NZ</td>\n",
       "      <td>667</td>\n",
       "    </tr>\n",
       "    <tr>\n",
       "      <th>4</th>\n",
       "      <td>Trent Boult</td>\n",
       "      <td>NZ</td>\n",
       "      <td>660</td>\n",
       "    </tr>\n",
       "    <tr>\n",
       "      <th>5</th>\n",
       "      <td>Adam Zampa</td>\n",
       "      <td>AUS</td>\n",
       "      <td>652</td>\n",
       "    </tr>\n",
       "    <tr>\n",
       "      <th>6</th>\n",
       "      <td>Rashid Khan</td>\n",
       "      <td>AFG</td>\n",
       "      <td>640</td>\n",
       "    </tr>\n",
       "    <tr>\n",
       "      <th>7</th>\n",
       "      <td>Shaheen Afridi</td>\n",
       "      <td>PAK</td>\n",
       "      <td>630</td>\n",
       "    </tr>\n",
       "    <tr>\n",
       "      <th>8</th>\n",
       "      <td>Mujeeb Ur Rahman</td>\n",
       "      <td>AFG</td>\n",
       "      <td>630</td>\n",
       "    </tr>\n",
       "    <tr>\n",
       "      <th>9</th>\n",
       "      <td>Mohammad Nabi</td>\n",
       "      <td>AFG</td>\n",
       "      <td>626</td>\n",
       "    </tr>\n",
       "  </tbody>\n",
       "</table>\n",
       "</div>"
      ],
      "text/plain": [
       "             Bowler Team Rating\n",
       "0    Josh Hazlewood  AUS    705\n",
       "1    Mohammed Siraj  IND    691\n",
       "2    Mitchell Starc  AUS    686\n",
       "3        Matt Henry   NZ    667\n",
       "4       Trent Boult   NZ    660\n",
       "5        Adam Zampa  AUS    652\n",
       "6       Rashid Khan  AFG    640\n",
       "7    Shaheen Afridi  PAK    630\n",
       "8  Mujeeb Ur Rahman  AFG    630\n",
       "9     Mohammad Nabi  AFG    626"
      ]
     },
     "execution_count": 96,
     "metadata": {},
     "output_type": "execute_result"
    }
   ],
   "source": [
    "df"
   ]
  },
  {
   "cell_type": "markdown",
   "id": "1bb97255",
   "metadata": {},
   "source": [
    "4) Write a python program to scrape cricket rankings from icc-cricket.com. You have to scrape and make data frame\u0002\n",
    "a) Top 10 ODI teams in women’s cricket along with the records for matches, points and rating.\n",
    "b) Top 10 women’s ODI Batting players along with the records of their team and rating.\n",
    "c) Top 10 women’s ODI all-rounder along with the records of their team and rating."
   ]
  },
  {
   "cell_type": "markdown",
   "id": "9d486b18",
   "metadata": {},
   "source": [
    "# a) Top 10 ODI teams in women’s cricket along with the records for matches, points and rating."
   ]
  },
  {
   "cell_type": "code",
   "execution_count": 97,
   "id": "60fb0639",
   "metadata": {},
   "outputs": [],
   "source": [
    "import pandas as pd\n",
    "import requests\n",
    "from bs4 import BeautifulSoup"
   ]
  },
  {
   "cell_type": "code",
   "execution_count": 98,
   "id": "690e4999",
   "metadata": {},
   "outputs": [],
   "source": [
    "url='https://www.icc-cricket.com/rankings/womens/team-rankings/odi'"
   ]
  },
  {
   "cell_type": "code",
   "execution_count": 99,
   "id": "f0ccecdb",
   "metadata": {},
   "outputs": [],
   "source": [
    "response=requests.get(url)\n",
    "#response"
   ]
  },
  {
   "cell_type": "code",
   "execution_count": 100,
   "id": "7e9a00a7",
   "metadata": {},
   "outputs": [],
   "source": [
    "soup = BeautifulSoup(response.content,'html.parser')"
   ]
  },
  {
   "cell_type": "code",
   "execution_count": 101,
   "id": "c065e491",
   "metadata": {},
   "outputs": [],
   "source": [
    "table = soup.find('table',class_='table') #find table team ranking "
   ]
  },
  {
   "cell_type": "code",
   "execution_count": 102,
   "id": "527284d1",
   "metadata": {},
   "outputs": [],
   "source": [
    "#Empty list\n",
    "teams=[]\n",
    "matches=[]\n",
    "points=[]\n",
    "ratings=[]\n",
    "\n",
    "rows=table.tbody.find_all('tr')\n",
    "for row in rows:\n",
    "    team_name=row.find('span',class_='u-hide-phablet').text.strip()\n",
    "    teams.append(team_name)\n",
    "    \n",
    "    columns = row.find_all('td')\n",
    "    matches_played = columns[1].text.strip()\n",
    "    points_earned = columns[2].text.strip()\n",
    "    rating = columns[3].text.strip()\n",
    "\n",
    "    matches.append(matches_played)\n",
    "    points.append(points_earned)\n",
    "    ratings.append(rating)"
   ]
  },
  {
   "cell_type": "code",
   "execution_count": 103,
   "id": "d96b9c50",
   "metadata": {},
   "outputs": [],
   "source": [
    "data={'Team':teams,'Matches':matches,'Points':points,'Rating':ratings}"
   ]
  },
  {
   "cell_type": "code",
   "execution_count": 104,
   "id": "29317244",
   "metadata": {},
   "outputs": [],
   "source": [
    "df=pd.DataFrame(data)"
   ]
  },
  {
   "cell_type": "code",
   "execution_count": 105,
   "id": "c75a75b4",
   "metadata": {},
   "outputs": [
    {
     "name": "stdout",
     "output_type": "stream",
     "text": [
      "           Team           Matches Points Rating\n",
      "0     Australia    Australia\\nAUS     21  3,603\n",
      "1       England      England\\nENG     28  3,342\n",
      "2  South Africa  South Africa\\nSA     26  3,098\n",
      "3         India        India\\nIND     27  2,820\n",
      "4   New Zealand   New Zealand\\nNZ     28  2,688\n",
      "5   West Indies   West Indies\\nWI     29  2,743\n",
      "6    Bangladesh   Bangladesh\\nBAN     14    977\n",
      "7     Sri Lanka     Sri Lanka\\nSL     12    820\n",
      "8      Thailand     Thailand\\nTHA     12    806\n",
      "9      Pakistan     Pakistan\\nPAK     27  1,678\n"
     ]
    }
   ],
   "source": [
    "top_10_teams=df.head(10)\n",
    "print(top_10_teams)"
   ]
  },
  {
   "cell_type": "markdown",
   "id": "ddaa89c9",
   "metadata": {},
   "source": [
    "# b) Top 10 ODI Batsmen along with the records of their team andrating."
   ]
  },
  {
   "cell_type": "code",
   "execution_count": 106,
   "id": "bab5d79a",
   "metadata": {},
   "outputs": [],
   "source": [
    "import pandas as pd\n",
    "import requests\n",
    "from bs4 import BeautifulSoup"
   ]
  },
  {
   "cell_type": "code",
   "execution_count": 107,
   "id": "f3fb218c",
   "metadata": {},
   "outputs": [],
   "source": [
    "url='https://www.icc-cricket.com/rankings/womens/player-rankings/odi/batting'"
   ]
  },
  {
   "cell_type": "code",
   "execution_count": 108,
   "id": "204d885f",
   "metadata": {},
   "outputs": [],
   "source": [
    "response = requests.get(url)"
   ]
  },
  {
   "cell_type": "code",
   "execution_count": 109,
   "id": "a2949074",
   "metadata": {},
   "outputs": [],
   "source": [
    "soup = BeautifulSoup(response.content, \"html.parser\")"
   ]
  },
  {
   "cell_type": "code",
   "execution_count": 110,
   "id": "b7cfd219",
   "metadata": {},
   "outputs": [],
   "source": [
    "table=soup.find('table',class_='table')"
   ]
  },
  {
   "cell_type": "code",
   "execution_count": 111,
   "id": "a2f3a793",
   "metadata": {},
   "outputs": [],
   "source": [
    "rows=table.find_all('tr')\n",
    "#rows"
   ]
  },
  {
   "cell_type": "code",
   "execution_count": 112,
   "id": "a47dafe3",
   "metadata": {},
   "outputs": [],
   "source": [
    "players=[]\n",
    "teams=[]\n",
    "ratings=[]\n",
    "\n",
    "#extract the data from table \n",
    "for row in rows[1:11]: # top 10 player \n",
    "    cells=row.find_all('td')\n",
    "    player=cells[1].text.strip()\n",
    "    team=cells[2].text.strip()\n",
    "    rating=cells[3].text.strip()\n",
    "    players.append(player)\n",
    "    teams.append(team)\n",
    "    ratings.append(rating)"
   ]
  },
  {
   "cell_type": "code",
   "execution_count": 113,
   "id": "7833497c",
   "metadata": {},
   "outputs": [],
   "source": [
    "data = {'player':players,'Team':teams,'Ratings':rating}"
   ]
  },
  {
   "cell_type": "code",
   "execution_count": 114,
   "id": "9705ac84",
   "metadata": {},
   "outputs": [],
   "source": [
    "df = pd.DataFrame(data)"
   ]
  },
  {
   "cell_type": "code",
   "execution_count": 115,
   "id": "5744c03f",
   "metadata": {},
   "outputs": [
    {
     "data": {
      "text/html": [
       "<div>\n",
       "<style scoped>\n",
       "    .dataframe tbody tr th:only-of-type {\n",
       "        vertical-align: middle;\n",
       "    }\n",
       "\n",
       "    .dataframe tbody tr th {\n",
       "        vertical-align: top;\n",
       "    }\n",
       "\n",
       "    .dataframe thead th {\n",
       "        text-align: right;\n",
       "    }\n",
       "</style>\n",
       "<table border=\"1\" class=\"dataframe\">\n",
       "  <thead>\n",
       "    <tr style=\"text-align: right;\">\n",
       "      <th></th>\n",
       "      <th>player</th>\n",
       "      <th>Team</th>\n",
       "      <th>Ratings</th>\n",
       "    </tr>\n",
       "  </thead>\n",
       "  <tbody>\n",
       "    <tr>\n",
       "      <th>0</th>\n",
       "      <td>Chamari Athapaththu</td>\n",
       "      <td>SL</td>\n",
       "      <td>595</td>\n",
       "    </tr>\n",
       "    <tr>\n",
       "      <th>1</th>\n",
       "      <td>Beth Mooney</td>\n",
       "      <td>AUS</td>\n",
       "      <td>595</td>\n",
       "    </tr>\n",
       "    <tr>\n",
       "      <th>2</th>\n",
       "      <td>Laura Wolvaardt</td>\n",
       "      <td>SA</td>\n",
       "      <td>595</td>\n",
       "    </tr>\n",
       "    <tr>\n",
       "      <th>3</th>\n",
       "      <td>Natalie Sciver</td>\n",
       "      <td>ENG</td>\n",
       "      <td>595</td>\n",
       "    </tr>\n",
       "    <tr>\n",
       "      <th>4</th>\n",
       "      <td>Meg Lanning</td>\n",
       "      <td>AUS</td>\n",
       "      <td>595</td>\n",
       "    </tr>\n",
       "    <tr>\n",
       "      <th>5</th>\n",
       "      <td>Harmanpreet Kaur</td>\n",
       "      <td>IND</td>\n",
       "      <td>595</td>\n",
       "    </tr>\n",
       "    <tr>\n",
       "      <th>6</th>\n",
       "      <td>Smriti Mandhana</td>\n",
       "      <td>IND</td>\n",
       "      <td>595</td>\n",
       "    </tr>\n",
       "    <tr>\n",
       "      <th>7</th>\n",
       "      <td>Ellyse Perry</td>\n",
       "      <td>AUS</td>\n",
       "      <td>595</td>\n",
       "    </tr>\n",
       "    <tr>\n",
       "      <th>8</th>\n",
       "      <td>Stafanie Taylor</td>\n",
       "      <td>WI</td>\n",
       "      <td>595</td>\n",
       "    </tr>\n",
       "    <tr>\n",
       "      <th>9</th>\n",
       "      <td>Tammy Beaumont</td>\n",
       "      <td>ENG</td>\n",
       "      <td>595</td>\n",
       "    </tr>\n",
       "  </tbody>\n",
       "</table>\n",
       "</div>"
      ],
      "text/plain": [
       "                player Team Ratings\n",
       "0  Chamari Athapaththu   SL     595\n",
       "1          Beth Mooney  AUS     595\n",
       "2      Laura Wolvaardt   SA     595\n",
       "3       Natalie Sciver  ENG     595\n",
       "4          Meg Lanning  AUS     595\n",
       "5     Harmanpreet Kaur  IND     595\n",
       "6      Smriti Mandhana  IND     595\n",
       "7         Ellyse Perry  AUS     595\n",
       "8      Stafanie Taylor   WI     595\n",
       "9       Tammy Beaumont  ENG     595"
      ]
     },
     "execution_count": 115,
     "metadata": {},
     "output_type": "execute_result"
    }
   ],
   "source": [
    "df"
   ]
  },
  {
   "cell_type": "markdown",
   "id": "8b1e5aa0",
   "metadata": {},
   "source": [
    "# c) Top 10 women’s ODI all-rounder along with the records of their team and rating."
   ]
  },
  {
   "cell_type": "code",
   "execution_count": 116,
   "id": "36bd7414",
   "metadata": {},
   "outputs": [],
   "source": [
    "import pandas as pd\n",
    "import requests\n",
    "from bs4 import BeautifulSoup"
   ]
  },
  {
   "cell_type": "code",
   "execution_count": 117,
   "id": "50996282",
   "metadata": {},
   "outputs": [],
   "source": [
    "url='https://www.icc-cricket.com/rankings/womens/player-rankings/odi/all-rounder'"
   ]
  },
  {
   "cell_type": "code",
   "execution_count": 118,
   "id": "ba6dea3d",
   "metadata": {},
   "outputs": [],
   "source": [
    "response = requests.get(url)\n",
    "#response"
   ]
  },
  {
   "cell_type": "code",
   "execution_count": 119,
   "id": "3864a799",
   "metadata": {},
   "outputs": [],
   "source": [
    "soup = BeautifulSoup(response.content, \"html.parser\")"
   ]
  },
  {
   "cell_type": "code",
   "execution_count": 120,
   "id": "e8f775b8",
   "metadata": {},
   "outputs": [],
   "source": [
    "table=soup.find('table',class_='table rankings-table')"
   ]
  },
  {
   "cell_type": "code",
   "execution_count": 121,
   "id": "10655ba6",
   "metadata": {},
   "outputs": [],
   "source": [
    "rows=table.find_all('tr')\n",
    "#rows"
   ]
  },
  {
   "cell_type": "code",
   "execution_count": 122,
   "id": "fc7b8593",
   "metadata": {},
   "outputs": [],
   "source": [
    "players=[]\n",
    "teams=[]\n",
    "ratings=[]\n",
    "\n",
    "#extract the data from table \n",
    "for row in rows[1:11]:\n",
    "    cells=row.find_all('td')\n",
    "    player=cells[1].text.strip()\n",
    "    team=cells[2].text.strip()\n",
    "    rating=cells[3].text.strip()\n",
    "    \n",
    "    players.append(player)\n",
    "    teams.append(team)\n",
    "    ratings.append(rating)"
   ]
  },
  {
   "cell_type": "code",
   "execution_count": 123,
   "id": "1c366ce4",
   "metadata": {},
   "outputs": [],
   "source": [
    "data = {'player':players,'Team':teams,'Ratings':rating}"
   ]
  },
  {
   "cell_type": "code",
   "execution_count": 124,
   "id": "0dafed75",
   "metadata": {},
   "outputs": [],
   "source": [
    "df = pd.DataFrame(data)"
   ]
  },
  {
   "cell_type": "code",
   "execution_count": 125,
   "id": "cce281df",
   "metadata": {},
   "outputs": [
    {
     "data": {
      "text/html": [
       "<div>\n",
       "<style scoped>\n",
       "    .dataframe tbody tr th:only-of-type {\n",
       "        vertical-align: middle;\n",
       "    }\n",
       "\n",
       "    .dataframe tbody tr th {\n",
       "        vertical-align: top;\n",
       "    }\n",
       "\n",
       "    .dataframe thead th {\n",
       "        text-align: right;\n",
       "    }\n",
       "</style>\n",
       "<table border=\"1\" class=\"dataframe\">\n",
       "  <thead>\n",
       "    <tr style=\"text-align: right;\">\n",
       "      <th></th>\n",
       "      <th>player</th>\n",
       "      <th>Team</th>\n",
       "      <th>Ratings</th>\n",
       "    </tr>\n",
       "  </thead>\n",
       "  <tbody>\n",
       "    <tr>\n",
       "      <th>0</th>\n",
       "      <td>Hayley Matthews</td>\n",
       "      <td>WI</td>\n",
       "      <td>232</td>\n",
       "    </tr>\n",
       "    <tr>\n",
       "      <th>1</th>\n",
       "      <td>Natalie Sciver</td>\n",
       "      <td>ENG</td>\n",
       "      <td>232</td>\n",
       "    </tr>\n",
       "    <tr>\n",
       "      <th>2</th>\n",
       "      <td>Ellyse Perry</td>\n",
       "      <td>AUS</td>\n",
       "      <td>232</td>\n",
       "    </tr>\n",
       "    <tr>\n",
       "      <th>3</th>\n",
       "      <td>Marizanne Kapp</td>\n",
       "      <td>SA</td>\n",
       "      <td>232</td>\n",
       "    </tr>\n",
       "    <tr>\n",
       "      <th>4</th>\n",
       "      <td>Amelia Kerr</td>\n",
       "      <td>NZ</td>\n",
       "      <td>232</td>\n",
       "    </tr>\n",
       "    <tr>\n",
       "      <th>5</th>\n",
       "      <td>Deepti Sharma</td>\n",
       "      <td>IND</td>\n",
       "      <td>232</td>\n",
       "    </tr>\n",
       "    <tr>\n",
       "      <th>6</th>\n",
       "      <td>Ashleigh Gardner</td>\n",
       "      <td>AUS</td>\n",
       "      <td>232</td>\n",
       "    </tr>\n",
       "    <tr>\n",
       "      <th>7</th>\n",
       "      <td>Jess Jonassen</td>\n",
       "      <td>AUS</td>\n",
       "      <td>232</td>\n",
       "    </tr>\n",
       "    <tr>\n",
       "      <th>8</th>\n",
       "      <td>Sophie Devine</td>\n",
       "      <td>NZ</td>\n",
       "      <td>232</td>\n",
       "    </tr>\n",
       "    <tr>\n",
       "      <th>9</th>\n",
       "      <td>Nida Dar</td>\n",
       "      <td>PAK</td>\n",
       "      <td>232</td>\n",
       "    </tr>\n",
       "  </tbody>\n",
       "</table>\n",
       "</div>"
      ],
      "text/plain": [
       "             player Team Ratings\n",
       "0   Hayley Matthews   WI     232\n",
       "1    Natalie Sciver  ENG     232\n",
       "2      Ellyse Perry  AUS     232\n",
       "3    Marizanne Kapp   SA     232\n",
       "4       Amelia Kerr   NZ     232\n",
       "5     Deepti Sharma  IND     232\n",
       "6  Ashleigh Gardner  AUS     232\n",
       "7     Jess Jonassen  AUS     232\n",
       "8     Sophie Devine   NZ     232\n",
       "9          Nida Dar  PAK     232"
      ]
     },
     "execution_count": 125,
     "metadata": {},
     "output_type": "execute_result"
    }
   ],
   "source": [
    "df"
   ]
  },
  {
   "cell_type": "markdown",
   "id": "eaf4781b",
   "metadata": {},
   "source": [
    "5) Write a python program to scrape mentioned news details from https://www.cnbc.com/world/?region=world and\n",
    "make data frame\u0002\n",
    "i) Headline\n",
    "ii) Time\n",
    "iii) News Lin"
   ]
  },
  {
   "cell_type": "code",
   "execution_count": 180,
   "id": "e6eb4141",
   "metadata": {},
   "outputs": [],
   "source": [
    "import requests\n",
    "from bs4 import BeautifulSoup\n",
    "import pandas as pd"
   ]
  },
  {
   "cell_type": "code",
   "execution_count": 181,
   "id": "8ddcddbb",
   "metadata": {},
   "outputs": [],
   "source": [
    "url='https://www.cnbc.com/world/?region=world'"
   ]
  },
  {
   "cell_type": "code",
   "execution_count": 182,
   "id": "16417dcb",
   "metadata": {},
   "outputs": [],
   "source": [
    "response=requests.get(url)\n",
    "#response"
   ]
  },
  {
   "cell_type": "code",
   "execution_count": 183,
   "id": "e0c054ad",
   "metadata": {},
   "outputs": [],
   "source": [
    "soup=BeautifulSoup(response.content,\"html.parser\")"
   ]
  },
  {
   "cell_type": "code",
   "execution_count": 186,
   "id": "3f83fd6a",
   "metadata": {},
   "outputs": [],
   "source": [
    "#find news\n",
    "articles=soup.find_all(\"li\",class_=\"LatestNews-item\")\n",
    "#articles"
   ]
  },
  {
   "cell_type": "code",
   "execution_count": 224,
   "id": "55718243",
   "metadata": {},
   "outputs": [],
   "source": [
    "#Empty list \n",
    "headlines=[]\n",
    "times=[]\n",
    "links=[]"
   ]
  },
  {
   "cell_type": "code",
   "execution_count": 225,
   "id": "1cc2776c",
   "metadata": {},
   "outputs": [],
   "source": [
    " # Extract the headline\n",
    "for article in articles:\n",
    "    headline=article.find(\"a\",class_=\"LatestNews-headline\").text.strip()\n",
    "    headlines.append(headline)"
   ]
  },
  {
   "cell_type": "code",
   "execution_count": 226,
   "id": "41e54f36",
   "metadata": {},
   "outputs": [
    {
     "name": "stdout",
     "output_type": "stream",
     "text": [
      "30\n"
     ]
    }
   ],
   "source": [
    "#print(len(headlines))"
   ]
  },
  {
   "cell_type": "code",
   "execution_count": 227,
   "id": "c1f2ca84",
   "metadata": {},
   "outputs": [],
   "source": [
    "# Extract the time\n",
    "for article in articles:\n",
    "    time=article.find(\"time\",class_=\"LatestNews-timestamp\").text.strip()\n",
    "    times.append(time)"
   ]
  },
  {
   "cell_type": "code",
   "execution_count": 228,
   "id": "36d9f91b",
   "metadata": {},
   "outputs": [
    {
     "name": "stdout",
     "output_type": "stream",
     "text": [
      "30\n"
     ]
    }
   ],
   "source": [
    "print(len(headlines))"
   ]
  },
  {
   "cell_type": "code",
   "execution_count": 231,
   "id": "73fbdce1",
   "metadata": {},
   "outputs": [],
   "source": [
    "# Extract the news link\n",
    "for article in articles:\n",
    "    link=article.find(\"a\")[\"href\"]\n",
    "    links.append(link)"
   ]
  },
  {
   "cell_type": "code",
   "execution_count": 232,
   "id": "aada410e",
   "metadata": {},
   "outputs": [
    {
     "name": "stdout",
     "output_type": "stream",
     "text": [
      "102\n"
     ]
    }
   ],
   "source": [
    "print(len(link))"
   ]
  },
  {
   "cell_type": "markdown",
   "id": "794c9c1c",
   "metadata": {},
   "source": [
    "data={\"Headline\": headlines,\"Time\": times,\"News Link\": links}"
   ]
  },
  {
   "cell_type": "code",
   "execution_count": 216,
   "id": "c1299946",
   "metadata": {},
   "outputs": [
    {
     "ename": "ValueError",
     "evalue": "All arrays must be of the same length",
     "output_type": "error",
     "traceback": [
      "\u001b[1;31m---------------------------------------------------------------------------\u001b[0m",
      "\u001b[1;31mValueError\u001b[0m                                Traceback (most recent call last)",
      "\u001b[1;32m~\\AppData\\Local\\Temp\\ipykernel_11124\\1923510999.py\u001b[0m in \u001b[0;36m<module>\u001b[1;34m\u001b[0m\n\u001b[1;32m----> 1\u001b[1;33m \u001b[0mdf\u001b[0m \u001b[1;33m=\u001b[0m \u001b[0mpd\u001b[0m\u001b[1;33m.\u001b[0m\u001b[0mDataFrame\u001b[0m\u001b[1;33m(\u001b[0m\u001b[0mdata\u001b[0m\u001b[1;33m)\u001b[0m\u001b[1;33m\u001b[0m\u001b[1;33m\u001b[0m\u001b[0m\n\u001b[0m",
      "\u001b[1;32m~\\anaconda3\\lib\\site-packages\\pandas\\core\\frame.py\u001b[0m in \u001b[0;36m__init__\u001b[1;34m(self, data, index, columns, dtype, copy)\u001b[0m\n\u001b[0;32m    634\u001b[0m         \u001b[1;32melif\u001b[0m \u001b[0misinstance\u001b[0m\u001b[1;33m(\u001b[0m\u001b[0mdata\u001b[0m\u001b[1;33m,\u001b[0m \u001b[0mdict\u001b[0m\u001b[1;33m)\u001b[0m\u001b[1;33m:\u001b[0m\u001b[1;33m\u001b[0m\u001b[1;33m\u001b[0m\u001b[0m\n\u001b[0;32m    635\u001b[0m             \u001b[1;31m# GH#38939 de facto copy defaults to False only in non-dict cases\u001b[0m\u001b[1;33m\u001b[0m\u001b[1;33m\u001b[0m\u001b[0m\n\u001b[1;32m--> 636\u001b[1;33m             \u001b[0mmgr\u001b[0m \u001b[1;33m=\u001b[0m \u001b[0mdict_to_mgr\u001b[0m\u001b[1;33m(\u001b[0m\u001b[0mdata\u001b[0m\u001b[1;33m,\u001b[0m \u001b[0mindex\u001b[0m\u001b[1;33m,\u001b[0m \u001b[0mcolumns\u001b[0m\u001b[1;33m,\u001b[0m \u001b[0mdtype\u001b[0m\u001b[1;33m=\u001b[0m\u001b[0mdtype\u001b[0m\u001b[1;33m,\u001b[0m \u001b[0mcopy\u001b[0m\u001b[1;33m=\u001b[0m\u001b[0mcopy\u001b[0m\u001b[1;33m,\u001b[0m \u001b[0mtyp\u001b[0m\u001b[1;33m=\u001b[0m\u001b[0mmanager\u001b[0m\u001b[1;33m)\u001b[0m\u001b[1;33m\u001b[0m\u001b[1;33m\u001b[0m\u001b[0m\n\u001b[0m\u001b[0;32m    637\u001b[0m         \u001b[1;32melif\u001b[0m \u001b[0misinstance\u001b[0m\u001b[1;33m(\u001b[0m\u001b[0mdata\u001b[0m\u001b[1;33m,\u001b[0m \u001b[0mma\u001b[0m\u001b[1;33m.\u001b[0m\u001b[0mMaskedArray\u001b[0m\u001b[1;33m)\u001b[0m\u001b[1;33m:\u001b[0m\u001b[1;33m\u001b[0m\u001b[1;33m\u001b[0m\u001b[0m\n\u001b[0;32m    638\u001b[0m             \u001b[1;32mimport\u001b[0m \u001b[0mnumpy\u001b[0m\u001b[1;33m.\u001b[0m\u001b[0mma\u001b[0m\u001b[1;33m.\u001b[0m\u001b[0mmrecords\u001b[0m \u001b[1;32mas\u001b[0m \u001b[0mmrecords\u001b[0m\u001b[1;33m\u001b[0m\u001b[1;33m\u001b[0m\u001b[0m\n",
      "\u001b[1;32m~\\anaconda3\\lib\\site-packages\\pandas\\core\\internals\\construction.py\u001b[0m in \u001b[0;36mdict_to_mgr\u001b[1;34m(data, index, columns, dtype, typ, copy)\u001b[0m\n\u001b[0;32m    500\u001b[0m         \u001b[1;31m# TODO: can we get rid of the dt64tz special case above?\u001b[0m\u001b[1;33m\u001b[0m\u001b[1;33m\u001b[0m\u001b[0m\n\u001b[0;32m    501\u001b[0m \u001b[1;33m\u001b[0m\u001b[0m\n\u001b[1;32m--> 502\u001b[1;33m     \u001b[1;32mreturn\u001b[0m \u001b[0marrays_to_mgr\u001b[0m\u001b[1;33m(\u001b[0m\u001b[0marrays\u001b[0m\u001b[1;33m,\u001b[0m \u001b[0mcolumns\u001b[0m\u001b[1;33m,\u001b[0m \u001b[0mindex\u001b[0m\u001b[1;33m,\u001b[0m \u001b[0mdtype\u001b[0m\u001b[1;33m=\u001b[0m\u001b[0mdtype\u001b[0m\u001b[1;33m,\u001b[0m \u001b[0mtyp\u001b[0m\u001b[1;33m=\u001b[0m\u001b[0mtyp\u001b[0m\u001b[1;33m,\u001b[0m \u001b[0mconsolidate\u001b[0m\u001b[1;33m=\u001b[0m\u001b[0mcopy\u001b[0m\u001b[1;33m)\u001b[0m\u001b[1;33m\u001b[0m\u001b[1;33m\u001b[0m\u001b[0m\n\u001b[0m\u001b[0;32m    503\u001b[0m \u001b[1;33m\u001b[0m\u001b[0m\n\u001b[0;32m    504\u001b[0m \u001b[1;33m\u001b[0m\u001b[0m\n",
      "\u001b[1;32m~\\anaconda3\\lib\\site-packages\\pandas\\core\\internals\\construction.py\u001b[0m in \u001b[0;36marrays_to_mgr\u001b[1;34m(arrays, columns, index, dtype, verify_integrity, typ, consolidate)\u001b[0m\n\u001b[0;32m    118\u001b[0m         \u001b[1;31m# figure out the index, if necessary\u001b[0m\u001b[1;33m\u001b[0m\u001b[1;33m\u001b[0m\u001b[0m\n\u001b[0;32m    119\u001b[0m         \u001b[1;32mif\u001b[0m \u001b[0mindex\u001b[0m \u001b[1;32mis\u001b[0m \u001b[1;32mNone\u001b[0m\u001b[1;33m:\u001b[0m\u001b[1;33m\u001b[0m\u001b[1;33m\u001b[0m\u001b[0m\n\u001b[1;32m--> 120\u001b[1;33m             \u001b[0mindex\u001b[0m \u001b[1;33m=\u001b[0m \u001b[0m_extract_index\u001b[0m\u001b[1;33m(\u001b[0m\u001b[0marrays\u001b[0m\u001b[1;33m)\u001b[0m\u001b[1;33m\u001b[0m\u001b[1;33m\u001b[0m\u001b[0m\n\u001b[0m\u001b[0;32m    121\u001b[0m         \u001b[1;32melse\u001b[0m\u001b[1;33m:\u001b[0m\u001b[1;33m\u001b[0m\u001b[1;33m\u001b[0m\u001b[0m\n\u001b[0;32m    122\u001b[0m             \u001b[0mindex\u001b[0m \u001b[1;33m=\u001b[0m \u001b[0mensure_index\u001b[0m\u001b[1;33m(\u001b[0m\u001b[0mindex\u001b[0m\u001b[1;33m)\u001b[0m\u001b[1;33m\u001b[0m\u001b[1;33m\u001b[0m\u001b[0m\n",
      "\u001b[1;32m~\\anaconda3\\lib\\site-packages\\pandas\\core\\internals\\construction.py\u001b[0m in \u001b[0;36m_extract_index\u001b[1;34m(data)\u001b[0m\n\u001b[0;32m    672\u001b[0m             \u001b[0mlengths\u001b[0m \u001b[1;33m=\u001b[0m \u001b[0mlist\u001b[0m\u001b[1;33m(\u001b[0m\u001b[0mset\u001b[0m\u001b[1;33m(\u001b[0m\u001b[0mraw_lengths\u001b[0m\u001b[1;33m)\u001b[0m\u001b[1;33m)\u001b[0m\u001b[1;33m\u001b[0m\u001b[1;33m\u001b[0m\u001b[0m\n\u001b[0;32m    673\u001b[0m             \u001b[1;32mif\u001b[0m \u001b[0mlen\u001b[0m\u001b[1;33m(\u001b[0m\u001b[0mlengths\u001b[0m\u001b[1;33m)\u001b[0m \u001b[1;33m>\u001b[0m \u001b[1;36m1\u001b[0m\u001b[1;33m:\u001b[0m\u001b[1;33m\u001b[0m\u001b[1;33m\u001b[0m\u001b[0m\n\u001b[1;32m--> 674\u001b[1;33m                 \u001b[1;32mraise\u001b[0m \u001b[0mValueError\u001b[0m\u001b[1;33m(\u001b[0m\u001b[1;34m\"All arrays must be of the same length\"\u001b[0m\u001b[1;33m)\u001b[0m\u001b[1;33m\u001b[0m\u001b[1;33m\u001b[0m\u001b[0m\n\u001b[0m\u001b[0;32m    675\u001b[0m \u001b[1;33m\u001b[0m\u001b[0m\n\u001b[0;32m    676\u001b[0m             \u001b[1;32mif\u001b[0m \u001b[0mhave_dicts\u001b[0m\u001b[1;33m:\u001b[0m\u001b[1;33m\u001b[0m\u001b[1;33m\u001b[0m\u001b[0m\n",
      "\u001b[1;31mValueError\u001b[0m: All arrays must be of the same length"
     ]
    }
   ],
   "source": [
    "df = pd.DataFrame(data)"
   ]
  },
  {
   "cell_type": "code",
   "execution_count": 203,
   "id": "0631ad85",
   "metadata": {},
   "outputs": [
    {
     "data": {
      "text/html": [
       "<div>\n",
       "<style scoped>\n",
       "    .dataframe tbody tr th:only-of-type {\n",
       "        vertical-align: middle;\n",
       "    }\n",
       "\n",
       "    .dataframe tbody tr th {\n",
       "        vertical-align: top;\n",
       "    }\n",
       "\n",
       "    .dataframe thead th {\n",
       "        text-align: right;\n",
       "    }\n",
       "</style>\n",
       "<table border=\"1\" class=\"dataframe\">\n",
       "  <thead>\n",
       "    <tr style=\"text-align: right;\">\n",
       "      <th></th>\n",
       "      <th>Headline</th>\n",
       "      <th>Time</th>\n",
       "      <th>News Link</th>\n",
       "    </tr>\n",
       "  </thead>\n",
       "  <tbody>\n",
       "    <tr>\n",
       "      <th>0</th>\n",
       "      <td>Bet on these stocks to beat the Street earning...</td>\n",
       "      <td>35 Min Ago</td>\n",
       "      <td>/pro/</td>\n",
       "    </tr>\n",
       "    <tr>\n",
       "      <th>1</th>\n",
       "      <td>'Bitcoin Family' has moon cycle algorithm that...</td>\n",
       "      <td>56 Min Ago</td>\n",
       "      <td>https://www.cnbc.com/2023/07/11/bitcoin-family...</td>\n",
       "    </tr>\n",
       "    <tr>\n",
       "      <th>2</th>\n",
       "      <td>Amazon charts its own course on A.I., leaning ...</td>\n",
       "      <td>56 Min Ago</td>\n",
       "      <td>/investingclub/</td>\n",
       "    </tr>\n",
       "    <tr>\n",
       "      <th>3</th>\n",
       "      <td>Grand jury that could soon decide on Trump cha...</td>\n",
       "      <td>57 Min Ago</td>\n",
       "      <td>https://www.cnbc.com/2023/07/11/trump-criminal...</td>\n",
       "    </tr>\n",
       "    <tr>\n",
       "      <th>4</th>\n",
       "      <td>Tesla settles class action Solar Roof lawsuit ...</td>\n",
       "      <td>1 Hour Ago</td>\n",
       "      <td>https://www.cnbc.com/2023/07/11/tesla-settles-...</td>\n",
       "    </tr>\n",
       "    <tr>\n",
       "      <th>5</th>\n",
       "      <td>Feds crack down on Bank of America but junk fe...</td>\n",
       "      <td>1 Hour Ago</td>\n",
       "      <td>https://www.cnbc.com/2023/07/11/feds-fine-bank...</td>\n",
       "    </tr>\n",
       "    <tr>\n",
       "      <th>6</th>\n",
       "      <td>Few patients continue weight loss drugs after ...</td>\n",
       "      <td>1 Hour Ago</td>\n",
       "      <td>https://www.cnbc.com/2023/07/11/weight-loss-dr...</td>\n",
       "    </tr>\n",
       "    <tr>\n",
       "      <th>7</th>\n",
       "      <td>'After the war, they will be a member': Baltic...</td>\n",
       "      <td>1 Hour Ago</td>\n",
       "      <td>https://www.cnbc.com/2023/07/11/russia-ukraine...</td>\n",
       "    </tr>\n",
       "    <tr>\n",
       "      <th>8</th>\n",
       "      <td>The high yield on this 1-year CD just got even...</td>\n",
       "      <td>1 Hour Ago</td>\n",
       "      <td>/pro/</td>\n",
       "    </tr>\n",
       "    <tr>\n",
       "      <th>9</th>\n",
       "      <td>This Club tech stock is a big winner Tuesday a...</td>\n",
       "      <td>2 Hours Ago</td>\n",
       "      <td>/investingclub/</td>\n",
       "    </tr>\n",
       "    <tr>\n",
       "      <th>10</th>\n",
       "      <td>Nasdaq 100 to undergo rejiggering because a fe...</td>\n",
       "      <td>2 Hours Ago</td>\n",
       "      <td>https://www.cnbc.com/2023/07/11/nasdaq-100-to-...</td>\n",
       "    </tr>\n",
       "    <tr>\n",
       "      <th>11</th>\n",
       "      <td>Powerball jackpot hits $725 million. If you wi...</td>\n",
       "      <td>2 Hours Ago</td>\n",
       "      <td>https://www.cnbc.com/2023/07/11/heres-what-you...</td>\n",
       "    </tr>\n",
       "    <tr>\n",
       "      <th>12</th>\n",
       "      <td>Stocks making the biggest moves midday: Shutte...</td>\n",
       "      <td>2 Hours Ago</td>\n",
       "      <td>https://www.cnbc.com/2023/07/11/stocks-making-...</td>\n",
       "    </tr>\n",
       "    <tr>\n",
       "      <th>13</th>\n",
       "      <td>Credit Suisse gives its top stock picks for th...</td>\n",
       "      <td>2 Hours Ago</td>\n",
       "      <td>/pro/</td>\n",
       "    </tr>\n",
       "    <tr>\n",
       "      <th>14</th>\n",
       "      <td>11 U.S. cities where rent has fallen the most ...</td>\n",
       "      <td>2 Hours Ago</td>\n",
       "      <td>https://www.cnbc.com/2023/07/11/11-us-cities-w...</td>\n",
       "    </tr>\n",
       "    <tr>\n",
       "      <th>15</th>\n",
       "      <td>General Mills is paying this ag tech startup t...</td>\n",
       "      <td>2 Hours Ago</td>\n",
       "      <td>https://www.cnbc.com/2023/07/11/general-mills-...</td>\n",
       "    </tr>\n",
       "    <tr>\n",
       "      <th>16</th>\n",
       "      <td>Microsoft-Activision deal moves closer as judg...</td>\n",
       "      <td>2 Hours Ago</td>\n",
       "      <td>https://www.cnbc.com/2023/07/11/microsoft-acti...</td>\n",
       "    </tr>\n",
       "    <tr>\n",
       "      <th>17</th>\n",
       "      <td>Top tech analyst says Netflix has gotten ahead...</td>\n",
       "      <td>3 Hours Ago</td>\n",
       "      <td>/pro/</td>\n",
       "    </tr>\n",
       "    <tr>\n",
       "      <th>18</th>\n",
       "      <td>How to answer 'tell me about yourself,' says C...</td>\n",
       "      <td>3 Hours Ago</td>\n",
       "      <td>https://www.cnbc.com/2023/07/11/how-to-answer-...</td>\n",
       "    </tr>\n",
       "    <tr>\n",
       "      <th>19</th>\n",
       "      <td>Boeing delivers 60 airplanes in June, racks up...</td>\n",
       "      <td>3 Hours Ago</td>\n",
       "      <td>https://www.cnbc.com/2023/07/11/boeing-aircraf...</td>\n",
       "    </tr>\n",
       "    <tr>\n",
       "      <th>20</th>\n",
       "      <td>Apple's Mac market share jumped as PC sales fe...</td>\n",
       "      <td>3 Hours Ago</td>\n",
       "      <td>https://www.cnbc.com/2023/07/11/apples-mac-mar...</td>\n",
       "    </tr>\n",
       "    <tr>\n",
       "      <th>21</th>\n",
       "      <td>Amazon launches first U.S. challenge to EU con...</td>\n",
       "      <td>3 Hours Ago</td>\n",
       "      <td>https://www.cnbc.com/2023/07/11/amazon-launche...</td>\n",
       "    </tr>\n",
       "    <tr>\n",
       "      <th>22</th>\n",
       "      <td>Bank of America fined for consumer abuses incl...</td>\n",
       "      <td>3 Hours Ago</td>\n",
       "      <td>https://www.cnbc.com/2023/07/11/bank-of-americ...</td>\n",
       "    </tr>\n",
       "    <tr>\n",
       "      <th>23</th>\n",
       "      <td>PGA Tour officials defend LIV Golf deal in Sen...</td>\n",
       "      <td>3 Hours Ago</td>\n",
       "      <td>https://www.cnbc.com/2023/07/11/pga-tour-liv-g...</td>\n",
       "    </tr>\n",
       "    <tr>\n",
       "      <th>24</th>\n",
       "      <td>JPMorgan's top equity guru says avoid stocks a...</td>\n",
       "      <td>3 Hours Ago</td>\n",
       "      <td>/pro/</td>\n",
       "    </tr>\n",
       "    <tr>\n",
       "      <th>25</th>\n",
       "      <td>Shutterstock shares pop as company expands par...</td>\n",
       "      <td>3 Hours Ago</td>\n",
       "      <td>https://www.cnbc.com/2023/07/11/shutterstock-s...</td>\n",
       "    </tr>\n",
       "    <tr>\n",
       "      <th>26</th>\n",
       "      <td>Astranis to bring satellite internet to the Ph...</td>\n",
       "      <td>4 Hours Ago</td>\n",
       "      <td>https://www.cnbc.com/2023/07/11/astranis-satel...</td>\n",
       "    </tr>\n",
       "    <tr>\n",
       "      <th>27</th>\n",
       "      <td>Be cautious buying A.I. ETFs, Bank of America ...</td>\n",
       "      <td>4 Hours Ago</td>\n",
       "      <td>/pro/</td>\n",
       "    </tr>\n",
       "    <tr>\n",
       "      <th>28</th>\n",
       "      <td>Spend better, not less: Duke expert on his top...</td>\n",
       "      <td>4 Hours Ago</td>\n",
       "      <td>https://www.cnbc.com/2023/07/11/duke-expert-da...</td>\n",
       "    </tr>\n",
       "    <tr>\n",
       "      <th>29</th>\n",
       "      <td>Open A.I. rival Anthropic debuts new A.I. chat...</td>\n",
       "      <td>4 Hours Ago</td>\n",
       "      <td>https://www.cnbc.com/2023/07/11/anthropic-an-o...</td>\n",
       "    </tr>\n",
       "  </tbody>\n",
       "</table>\n",
       "</div>"
      ],
      "text/plain": [
       "                                             Headline         Time  \\\n",
       "0   Bet on these stocks to beat the Street earning...   35 Min Ago   \n",
       "1   'Bitcoin Family' has moon cycle algorithm that...   56 Min Ago   \n",
       "2   Amazon charts its own course on A.I., leaning ...   56 Min Ago   \n",
       "3   Grand jury that could soon decide on Trump cha...   57 Min Ago   \n",
       "4   Tesla settles class action Solar Roof lawsuit ...   1 Hour Ago   \n",
       "5   Feds crack down on Bank of America but junk fe...   1 Hour Ago   \n",
       "6   Few patients continue weight loss drugs after ...   1 Hour Ago   \n",
       "7   'After the war, they will be a member': Baltic...   1 Hour Ago   \n",
       "8   The high yield on this 1-year CD just got even...   1 Hour Ago   \n",
       "9   This Club tech stock is a big winner Tuesday a...  2 Hours Ago   \n",
       "10  Nasdaq 100 to undergo rejiggering because a fe...  2 Hours Ago   \n",
       "11  Powerball jackpot hits $725 million. If you wi...  2 Hours Ago   \n",
       "12  Stocks making the biggest moves midday: Shutte...  2 Hours Ago   \n",
       "13  Credit Suisse gives its top stock picks for th...  2 Hours Ago   \n",
       "14  11 U.S. cities where rent has fallen the most ...  2 Hours Ago   \n",
       "15  General Mills is paying this ag tech startup t...  2 Hours Ago   \n",
       "16  Microsoft-Activision deal moves closer as judg...  2 Hours Ago   \n",
       "17  Top tech analyst says Netflix has gotten ahead...  3 Hours Ago   \n",
       "18  How to answer 'tell me about yourself,' says C...  3 Hours Ago   \n",
       "19  Boeing delivers 60 airplanes in June, racks up...  3 Hours Ago   \n",
       "20  Apple's Mac market share jumped as PC sales fe...  3 Hours Ago   \n",
       "21  Amazon launches first U.S. challenge to EU con...  3 Hours Ago   \n",
       "22  Bank of America fined for consumer abuses incl...  3 Hours Ago   \n",
       "23  PGA Tour officials defend LIV Golf deal in Sen...  3 Hours Ago   \n",
       "24  JPMorgan's top equity guru says avoid stocks a...  3 Hours Ago   \n",
       "25  Shutterstock shares pop as company expands par...  3 Hours Ago   \n",
       "26  Astranis to bring satellite internet to the Ph...  4 Hours Ago   \n",
       "27  Be cautious buying A.I. ETFs, Bank of America ...  4 Hours Ago   \n",
       "28  Spend better, not less: Duke expert on his top...  4 Hours Ago   \n",
       "29  Open A.I. rival Anthropic debuts new A.I. chat...  4 Hours Ago   \n",
       "\n",
       "                                            News Link  \n",
       "0                                               /pro/  \n",
       "1   https://www.cnbc.com/2023/07/11/bitcoin-family...  \n",
       "2                                     /investingclub/  \n",
       "3   https://www.cnbc.com/2023/07/11/trump-criminal...  \n",
       "4   https://www.cnbc.com/2023/07/11/tesla-settles-...  \n",
       "5   https://www.cnbc.com/2023/07/11/feds-fine-bank...  \n",
       "6   https://www.cnbc.com/2023/07/11/weight-loss-dr...  \n",
       "7   https://www.cnbc.com/2023/07/11/russia-ukraine...  \n",
       "8                                               /pro/  \n",
       "9                                     /investingclub/  \n",
       "10  https://www.cnbc.com/2023/07/11/nasdaq-100-to-...  \n",
       "11  https://www.cnbc.com/2023/07/11/heres-what-you...  \n",
       "12  https://www.cnbc.com/2023/07/11/stocks-making-...  \n",
       "13                                              /pro/  \n",
       "14  https://www.cnbc.com/2023/07/11/11-us-cities-w...  \n",
       "15  https://www.cnbc.com/2023/07/11/general-mills-...  \n",
       "16  https://www.cnbc.com/2023/07/11/microsoft-acti...  \n",
       "17                                              /pro/  \n",
       "18  https://www.cnbc.com/2023/07/11/how-to-answer-...  \n",
       "19  https://www.cnbc.com/2023/07/11/boeing-aircraf...  \n",
       "20  https://www.cnbc.com/2023/07/11/apples-mac-mar...  \n",
       "21  https://www.cnbc.com/2023/07/11/amazon-launche...  \n",
       "22  https://www.cnbc.com/2023/07/11/bank-of-americ...  \n",
       "23  https://www.cnbc.com/2023/07/11/pga-tour-liv-g...  \n",
       "24                                              /pro/  \n",
       "25  https://www.cnbc.com/2023/07/11/shutterstock-s...  \n",
       "26  https://www.cnbc.com/2023/07/11/astranis-satel...  \n",
       "27                                              /pro/  \n",
       "28  https://www.cnbc.com/2023/07/11/duke-expert-da...  \n",
       "29  https://www.cnbc.com/2023/07/11/anthropic-an-o...  "
      ]
     },
     "execution_count": 203,
     "metadata": {},
     "output_type": "execute_result"
    }
   ],
   "source": [
    "df"
   ]
  },
  {
   "cell_type": "markdown",
   "id": "88f67879",
   "metadata": {},
   "source": [
    "6.Write a python program to scrape the details of most downloaded articles from AI in last 90\n",
    "days.https://www.journals.elsevier.com/artificial-intelligence/most-downloaded-articles\n",
    "Scrape below mentioned details and make data frame\u0002\n",
    "i) Paper Title\n",
    "ii) Authors\n",
    "iii) Published Date\n",
    "iv) Paper URL"
   ]
  },
  {
   "cell_type": "code",
   "execution_count": 139,
   "id": "10863a22",
   "metadata": {},
   "outputs": [],
   "source": [
    "#pip install beautifulsoup4 pandas\n"
   ]
  },
  {
   "cell_type": "code",
   "execution_count": 140,
   "id": "0f59dceb",
   "metadata": {},
   "outputs": [],
   "source": [
    "import requests\n",
    "from bs4 import BeautifulSoup\n",
    "import pandas as pd\n"
   ]
  },
  {
   "cell_type": "code",
   "execution_count": 141,
   "id": "126c7eae",
   "metadata": {},
   "outputs": [],
   "source": [
    "url=\"https://www.journals.elsevier.com/artificial-intelligence/most-downloaded-articles\""
   ]
  },
  {
   "cell_type": "code",
   "execution_count": 142,
   "id": "9221d21b",
   "metadata": {},
   "outputs": [
    {
     "data": {
      "text/plain": [
       "<Response [200]>"
      ]
     },
     "execution_count": 142,
     "metadata": {},
     "output_type": "execute_result"
    }
   ],
   "source": [
    "response = requests.get(url)\n",
    "response"
   ]
  },
  {
   "cell_type": "code",
   "execution_count": 161,
   "id": "249776d9",
   "metadata": {},
   "outputs": [],
   "source": [
    "soup=BeautifulSoup(response.content, \"html.parser\")\n",
    "#soup"
   ]
  },
  {
   "cell_type": "code",
   "execution_count": 158,
   "id": "0f985ef9",
   "metadata": {},
   "outputs": [],
   "source": [
    "#Empty List \n",
    "paper_titles=[]\n",
    "authors=[]\n",
    "published_dates=[]\n",
    "paper_urls=[]"
   ]
  },
  {
   "cell_type": "code",
   "execution_count": 165,
   "id": "a756d5f0",
   "metadata": {},
   "outputs": [],
   "source": [
    "article_cards=soup.find_all(\"li\", class_=\"sc-9zxyh7-1 sc-9zxyh7-2 kOEIEO hvoVxs\")\n",
    "#article_cards"
   ]
  },
  {
   "cell_type": "code",
   "execution_count": 163,
   "id": "8d904435",
   "metadata": {},
   "outputs": [],
   "source": [
    "#Pater titles\n",
    "for card in article_cards:\n",
    "    title=card.find(\"h2\",class_=\"sc-1qrq3sd-1 gRGSUS sc-1nmom32-0 sc-1nmom32-1 btcbYu goSKRg\").text.strip()\n",
    "    paper_titles.append(title)"
   ]
  },
  {
   "cell_type": "code",
   "execution_count": 167,
   "id": "b3c49845",
   "metadata": {},
   "outputs": [
    {
     "name": "stdout",
     "output_type": "stream",
     "text": [
      "24\n"
     ]
    }
   ],
   "source": [
    "print(len(paper_titles))"
   ]
  },
  {
   "cell_type": "code",
   "execution_count": 168,
   "id": "31163ea5",
   "metadata": {},
   "outputs": [],
   "source": [
    "# Authors\n",
    "for card in article_cards:\n",
    "    author_tags=card.find_all(\"span\", class_=\"sc-1w3fpd7-0 dnCnAO\")\n",
    "    author_names=[author.text.strip() for author in author_tags]\n",
    "    authors.append(\", \".join(author_names))"
   ]
  },
  {
   "cell_type": "code",
   "execution_count": 169,
   "id": "5c0b9643",
   "metadata": {},
   "outputs": [
    {
     "name": "stdout",
     "output_type": "stream",
     "text": [
      "24\n"
     ]
    }
   ],
   "source": [
    "print(len(authors))"
   ]
  },
  {
   "cell_type": "code",
   "execution_count": 170,
   "id": "739a8cfe",
   "metadata": {},
   "outputs": [],
   "source": [
    "# Publishdate\n",
    "for card in article_cards:\n",
    "    published_date=card.find(\"span\", class_=\"sc-1thf9ly-2 dvggWt\").text.strip()\n",
    "    published_dates.append(published_date)"
   ]
  },
  {
   "cell_type": "code",
   "execution_count": 171,
   "id": "55ddc5e3",
   "metadata": {},
   "outputs": [
    {
     "name": "stdout",
     "output_type": "stream",
     "text": [
      "24\n"
     ]
    }
   ],
   "source": [
    "print(len(authors))"
   ]
  },
  {
   "cell_type": "code",
   "execution_count": 172,
   "id": "e179ab38",
   "metadata": {},
   "outputs": [],
   "source": [
    "# Paper URL\n",
    "for card in article_cards:\n",
    "    paper_url = card.find(\"a\")[\"href\"]\n",
    "    paper_urls.append(paper_url)"
   ]
  },
  {
   "cell_type": "code",
   "execution_count": 173,
   "id": "ba6349e8",
   "metadata": {},
   "outputs": [
    {
     "name": "stdout",
     "output_type": "stream",
     "text": [
      "24\n"
     ]
    }
   ],
   "source": [
    "print(len(paper_urls))"
   ]
  },
  {
   "cell_type": "code",
   "execution_count": 174,
   "id": "60ae8a71",
   "metadata": {},
   "outputs": [],
   "source": [
    "data = {\n",
    "    \"Paper Title\": paper_titles,\n",
    "    \"Authors\": authors,\n",
    "    \"Published Date\": published_dates,\n",
    "    \"Paper URL\": paper_urls\n",
    "}"
   ]
  },
  {
   "cell_type": "code",
   "execution_count": 175,
   "id": "cfa1ef96",
   "metadata": {},
   "outputs": [],
   "source": [
    "df=pd.DataFrame(data)"
   ]
  },
  {
   "cell_type": "code",
   "execution_count": 177,
   "id": "7611230c",
   "metadata": {},
   "outputs": [
    {
     "data": {
      "text/html": [
       "<div>\n",
       "<style scoped>\n",
       "    .dataframe tbody tr th:only-of-type {\n",
       "        vertical-align: middle;\n",
       "    }\n",
       "\n",
       "    .dataframe tbody tr th {\n",
       "        vertical-align: top;\n",
       "    }\n",
       "\n",
       "    .dataframe thead th {\n",
       "        text-align: right;\n",
       "    }\n",
       "</style>\n",
       "<table border=\"1\" class=\"dataframe\">\n",
       "  <thead>\n",
       "    <tr style=\"text-align: right;\">\n",
       "      <th></th>\n",
       "      <th>Paper Title</th>\n",
       "      <th>Authors</th>\n",
       "      <th>Published Date</th>\n",
       "      <th>Paper URL</th>\n",
       "    </tr>\n",
       "  </thead>\n",
       "  <tbody>\n",
       "    <tr>\n",
       "      <th>0</th>\n",
       "      <td>Reward is enough</td>\n",
       "      <td>David Silver, Satinder Singh, Doina Precup, Ri...</td>\n",
       "      <td>October 2021</td>\n",
       "      <td>https://www.sciencedirect.com/science/article/...</td>\n",
       "    </tr>\n",
       "    <tr>\n",
       "      <th>1</th>\n",
       "      <td>Explanation in artificial intelligence: Insigh...</td>\n",
       "      <td>Tim Miller</td>\n",
       "      <td>February 2019</td>\n",
       "      <td>https://www.sciencedirect.com/science/article/...</td>\n",
       "    </tr>\n",
       "    <tr>\n",
       "      <th>2</th>\n",
       "      <td>Creativity and artificial intelligence</td>\n",
       "      <td>Margaret A. Boden</td>\n",
       "      <td>August 1998</td>\n",
       "      <td>https://www.sciencedirect.com/science/article/...</td>\n",
       "    </tr>\n",
       "    <tr>\n",
       "      <th>3</th>\n",
       "      <td>Conflict-based search for optimal multi-agent ...</td>\n",
       "      <td>Guni Sharon, Roni Stern, Ariel Felner, Nathan ...</td>\n",
       "      <td>February 2015</td>\n",
       "      <td>https://www.sciencedirect.com/science/article/...</td>\n",
       "    </tr>\n",
       "    <tr>\n",
       "      <th>4</th>\n",
       "      <td>Knowledge graphs as tools for explainable mach...</td>\n",
       "      <td>Ilaria Tiddi, Stefan Schlobach</td>\n",
       "      <td>January 2022</td>\n",
       "      <td>https://www.sciencedirect.com/science/article/...</td>\n",
       "    </tr>\n",
       "    <tr>\n",
       "      <th>5</th>\n",
       "      <td>Law and logic: A review from an argumentation ...</td>\n",
       "      <td>Henry Prakken, Giovanni Sartor</td>\n",
       "      <td>October 2015</td>\n",
       "      <td>https://www.sciencedirect.com/science/article/...</td>\n",
       "    </tr>\n",
       "    <tr>\n",
       "      <th>6</th>\n",
       "      <td>Between MDPs and semi-MDPs: A framework for te...</td>\n",
       "      <td>Richard S. Sutton, Doina Precup, Satinder Singh</td>\n",
       "      <td>August 1999</td>\n",
       "      <td>https://www.sciencedirect.com/science/article/...</td>\n",
       "    </tr>\n",
       "    <tr>\n",
       "      <th>7</th>\n",
       "      <td>Explaining individual predictions when feature...</td>\n",
       "      <td>Kjersti Aas, Martin Jullum, Anders Løland</td>\n",
       "      <td>September 2021</td>\n",
       "      <td>https://www.sciencedirect.com/science/article/...</td>\n",
       "    </tr>\n",
       "    <tr>\n",
       "      <th>8</th>\n",
       "      <td>Multiple object tracking: A literature review</td>\n",
       "      <td>Wenhan Luo, Junliang Xing and 4 more</td>\n",
       "      <td>April 2021</td>\n",
       "      <td>https://www.sciencedirect.com/science/article/...</td>\n",
       "    </tr>\n",
       "    <tr>\n",
       "      <th>9</th>\n",
       "      <td>A survey of inverse reinforcement learning: Ch...</td>\n",
       "      <td>Saurabh Arora, Prashant Doshi</td>\n",
       "      <td>August 2021</td>\n",
       "      <td>https://www.sciencedirect.com/science/article/...</td>\n",
       "    </tr>\n",
       "    <tr>\n",
       "      <th>10</th>\n",
       "      <td>Evaluating XAI: A comparison of rule-based and...</td>\n",
       "      <td>Jasper van der Waa, Elisabeth Nieuwburg, Anita...</td>\n",
       "      <td>February 2021</td>\n",
       "      <td>https://www.sciencedirect.com/science/article/...</td>\n",
       "    </tr>\n",
       "    <tr>\n",
       "      <th>11</th>\n",
       "      <td>Explainable AI tools for legal reasoning about...</td>\n",
       "      <td>Joe Collenette, Katie Atkinson, Trevor Bench-C...</td>\n",
       "      <td>April 2023</td>\n",
       "      <td>https://www.sciencedirect.com/science/article/...</td>\n",
       "    </tr>\n",
       "    <tr>\n",
       "      <th>12</th>\n",
       "      <td>Hard choices in artificial intelligence</td>\n",
       "      <td>Roel Dobbe, Thomas Krendl Gilbert, Yonatan Mintz</td>\n",
       "      <td>November 2021</td>\n",
       "      <td>https://www.sciencedirect.com/science/article/...</td>\n",
       "    </tr>\n",
       "    <tr>\n",
       "      <th>13</th>\n",
       "      <td>Assessing the communication gap between AI mod...</td>\n",
       "      <td>Oskar Wysocki, Jessica Katharine Davies and 5 ...</td>\n",
       "      <td>March 2023</td>\n",
       "      <td>https://www.sciencedirect.com/science/article/...</td>\n",
       "    </tr>\n",
       "    <tr>\n",
       "      <th>14</th>\n",
       "      <td>Explaining black-box classifiers using post-ho...</td>\n",
       "      <td>Eoin M. Kenny, Courtney Ford, Molly Quinn, Mar...</td>\n",
       "      <td>May 2021</td>\n",
       "      <td>https://www.sciencedirect.com/science/article/...</td>\n",
       "    </tr>\n",
       "    <tr>\n",
       "      <th>15</th>\n",
       "      <td>The Hanabi challenge: A new frontier for AI re...</td>\n",
       "      <td>Nolan Bard, Jakob N. Foerster and 13 more</td>\n",
       "      <td>March 2020</td>\n",
       "      <td>https://www.sciencedirect.com/science/article/...</td>\n",
       "    </tr>\n",
       "    <tr>\n",
       "      <th>16</th>\n",
       "      <td>Wrappers for feature subset selection</td>\n",
       "      <td>Ron Kohavi, George H. John</td>\n",
       "      <td>December 1997</td>\n",
       "      <td>https://www.sciencedirect.com/science/article/...</td>\n",
       "    </tr>\n",
       "    <tr>\n",
       "      <th>17</th>\n",
       "      <td>Artificial cognition for social human–robot in...</td>\n",
       "      <td>Séverin Lemaignan, Mathieu Warnier and 3 more</td>\n",
       "      <td>June 2017</td>\n",
       "      <td>https://www.sciencedirect.com/science/article/...</td>\n",
       "    </tr>\n",
       "    <tr>\n",
       "      <th>18</th>\n",
       "      <td>A review of possible effects of cognitive bias...</td>\n",
       "      <td>Tomáš Kliegr, Štěpán Bahník, Johannes Fürnkranz</td>\n",
       "      <td>June 2021</td>\n",
       "      <td>https://www.sciencedirect.com/science/article/...</td>\n",
       "    </tr>\n",
       "    <tr>\n",
       "      <th>19</th>\n",
       "      <td>The multifaceted impact of Ada Lovelace in the...</td>\n",
       "      <td>Luigia Carlucci Aiello</td>\n",
       "      <td>June 2016</td>\n",
       "      <td>https://www.sciencedirect.com/science/article/...</td>\n",
       "    </tr>\n",
       "    <tr>\n",
       "      <th>20</th>\n",
       "      <td>Robot ethics: Mapping the issues for a mechani...</td>\n",
       "      <td>Patrick Lin, Keith Abney, George Bekey</td>\n",
       "      <td>April 2011</td>\n",
       "      <td>https://www.sciencedirect.com/science/article/...</td>\n",
       "    </tr>\n",
       "    <tr>\n",
       "      <th>21</th>\n",
       "      <td>Reward (Mis)design for autonomous driving</td>\n",
       "      <td>W. Bradley Knox, Alessandro Allievi and 3 more</td>\n",
       "      <td>March 2023</td>\n",
       "      <td>https://www.sciencedirect.com/science/article/...</td>\n",
       "    </tr>\n",
       "    <tr>\n",
       "      <th>22</th>\n",
       "      <td>Planning and acting in partially observable st...</td>\n",
       "      <td>Leslie Pack Kaelbling, Michael L. Littman, Ant...</td>\n",
       "      <td>May 1998</td>\n",
       "      <td>https://www.sciencedirect.com/science/article/...</td>\n",
       "    </tr>\n",
       "    <tr>\n",
       "      <th>23</th>\n",
       "      <td>What do we want from Explainable Artificial In...</td>\n",
       "      <td>Markus Langer, Daniel Oster and 6 more</td>\n",
       "      <td>July 2021</td>\n",
       "      <td>https://www.sciencedirect.com/science/article/...</td>\n",
       "    </tr>\n",
       "  </tbody>\n",
       "</table>\n",
       "</div>"
      ],
      "text/plain": [
       "                                          Paper Title  \\\n",
       "0                                    Reward is enough   \n",
       "1   Explanation in artificial intelligence: Insigh...   \n",
       "2              Creativity and artificial intelligence   \n",
       "3   Conflict-based search for optimal multi-agent ...   \n",
       "4   Knowledge graphs as tools for explainable mach...   \n",
       "5   Law and logic: A review from an argumentation ...   \n",
       "6   Between MDPs and semi-MDPs: A framework for te...   \n",
       "7   Explaining individual predictions when feature...   \n",
       "8       Multiple object tracking: A literature review   \n",
       "9   A survey of inverse reinforcement learning: Ch...   \n",
       "10  Evaluating XAI: A comparison of rule-based and...   \n",
       "11  Explainable AI tools for legal reasoning about...   \n",
       "12            Hard choices in artificial intelligence   \n",
       "13  Assessing the communication gap between AI mod...   \n",
       "14  Explaining black-box classifiers using post-ho...   \n",
       "15  The Hanabi challenge: A new frontier for AI re...   \n",
       "16              Wrappers for feature subset selection   \n",
       "17  Artificial cognition for social human–robot in...   \n",
       "18  A review of possible effects of cognitive bias...   \n",
       "19  The multifaceted impact of Ada Lovelace in the...   \n",
       "20  Robot ethics: Mapping the issues for a mechani...   \n",
       "21          Reward (Mis)design for autonomous driving   \n",
       "22  Planning and acting in partially observable st...   \n",
       "23  What do we want from Explainable Artificial In...   \n",
       "\n",
       "                                              Authors  Published Date  \\\n",
       "0   David Silver, Satinder Singh, Doina Precup, Ri...    October 2021   \n",
       "1                                          Tim Miller   February 2019   \n",
       "2                                   Margaret A. Boden     August 1998   \n",
       "3   Guni Sharon, Roni Stern, Ariel Felner, Nathan ...   February 2015   \n",
       "4                      Ilaria Tiddi, Stefan Schlobach    January 2022   \n",
       "5                      Henry Prakken, Giovanni Sartor    October 2015   \n",
       "6     Richard S. Sutton, Doina Precup, Satinder Singh     August 1999   \n",
       "7           Kjersti Aas, Martin Jullum, Anders Løland  September 2021   \n",
       "8                Wenhan Luo, Junliang Xing and 4 more      April 2021   \n",
       "9                       Saurabh Arora, Prashant Doshi     August 2021   \n",
       "10  Jasper van der Waa, Elisabeth Nieuwburg, Anita...   February 2021   \n",
       "11  Joe Collenette, Katie Atkinson, Trevor Bench-C...      April 2023   \n",
       "12   Roel Dobbe, Thomas Krendl Gilbert, Yonatan Mintz   November 2021   \n",
       "13  Oskar Wysocki, Jessica Katharine Davies and 5 ...      March 2023   \n",
       "14  Eoin M. Kenny, Courtney Ford, Molly Quinn, Mar...        May 2021   \n",
       "15          Nolan Bard, Jakob N. Foerster and 13 more      March 2020   \n",
       "16                         Ron Kohavi, George H. John   December 1997   \n",
       "17      Séverin Lemaignan, Mathieu Warnier and 3 more       June 2017   \n",
       "18    Tomáš Kliegr, Štěpán Bahník, Johannes Fürnkranz       June 2021   \n",
       "19                             Luigia Carlucci Aiello       June 2016   \n",
       "20             Patrick Lin, Keith Abney, George Bekey      April 2011   \n",
       "21     W. Bradley Knox, Alessandro Allievi and 3 more      March 2023   \n",
       "22  Leslie Pack Kaelbling, Michael L. Littman, Ant...        May 1998   \n",
       "23             Markus Langer, Daniel Oster and 6 more       July 2021   \n",
       "\n",
       "                                            Paper URL  \n",
       "0   https://www.sciencedirect.com/science/article/...  \n",
       "1   https://www.sciencedirect.com/science/article/...  \n",
       "2   https://www.sciencedirect.com/science/article/...  \n",
       "3   https://www.sciencedirect.com/science/article/...  \n",
       "4   https://www.sciencedirect.com/science/article/...  \n",
       "5   https://www.sciencedirect.com/science/article/...  \n",
       "6   https://www.sciencedirect.com/science/article/...  \n",
       "7   https://www.sciencedirect.com/science/article/...  \n",
       "8   https://www.sciencedirect.com/science/article/...  \n",
       "9   https://www.sciencedirect.com/science/article/...  \n",
       "10  https://www.sciencedirect.com/science/article/...  \n",
       "11  https://www.sciencedirect.com/science/article/...  \n",
       "12  https://www.sciencedirect.com/science/article/...  \n",
       "13  https://www.sciencedirect.com/science/article/...  \n",
       "14  https://www.sciencedirect.com/science/article/...  \n",
       "15  https://www.sciencedirect.com/science/article/...  \n",
       "16  https://www.sciencedirect.com/science/article/...  \n",
       "17  https://www.sciencedirect.com/science/article/...  \n",
       "18  https://www.sciencedirect.com/science/article/...  \n",
       "19  https://www.sciencedirect.com/science/article/...  \n",
       "20  https://www.sciencedirect.com/science/article/...  \n",
       "21  https://www.sciencedirect.com/science/article/...  \n",
       "22  https://www.sciencedirect.com/science/article/...  \n",
       "23  https://www.sciencedirect.com/science/article/...  "
      ]
     },
     "execution_count": 177,
     "metadata": {},
     "output_type": "execute_result"
    }
   ],
   "source": [
    "df"
   ]
  },
  {
   "cell_type": "markdown",
   "id": "5dec3131",
   "metadata": {},
   "source": [
    "7) Write a python program to scrape mentioned details from dineout.co.inand make data frame\u0002i) Restaurant name\n",
    "ii) Cuisine\n",
    "iii) Location\n",
    "iv) Ratings\n",
    "v) Image URL"
   ]
  },
  {
   "cell_type": "code",
   "execution_count": 28,
   "id": "69f0c30c",
   "metadata": {},
   "outputs": [],
   "source": [
    "import pandas as pd\n",
    "import requests\n",
    "from bs4 import BeautifulSoup"
   ]
  },
  {
   "cell_type": "code",
   "execution_count": 29,
   "id": "a4f39b65",
   "metadata": {},
   "outputs": [],
   "source": [
    "url=\"https://www.dineout.co.in/delhi-restaurants\""
   ]
  },
  {
   "cell_type": "code",
   "execution_count": 33,
   "id": "abb7bde4",
   "metadata": {},
   "outputs": [
    {
     "data": {
      "text/plain": [
       "<Response [200]>"
      ]
     },
     "execution_count": 33,
     "metadata": {},
     "output_type": "execute_result"
    }
   ],
   "source": [
    "response=requests.get(url)\n",
    "response"
   ]
  },
  {
   "cell_type": "code",
   "execution_count": 32,
   "id": "82034291",
   "metadata": {},
   "outputs": [],
   "source": [
    "soup = BeautifulSoup(response.content, \"html.parser\")\n",
    "#soup"
   ]
  },
  {
   "cell_type": "code",
   "execution_count": 34,
   "id": "f884681e",
   "metadata": {},
   "outputs": [],
   "source": [
    "#Empty list for store\n",
    "restaurant_names=[]\n",
    "cuisines=[]\n",
    "locations=[]\n",
    "ratings=[]\n",
    "image_urls=[]"
   ]
  },
  {
   "cell_type": "code",
   "execution_count": 35,
   "id": "3c93b7b9",
   "metadata": {},
   "outputs": [],
   "source": [
    "restaurant_details=soup.find_all(\"div\", class_=\"restnt-detail-wrap\")"
   ]
  },
  {
   "cell_type": "code",
   "execution_count": 36,
   "id": "f0665c0f",
   "metadata": {},
   "outputs": [],
   "source": [
    "# Extract the restaurant name\n",
    "for details in restaurant_details:\n",
    "    restaurant_name=details.find(\"a\",class_=\"restnt-name ellipsis\").text.strip()\n",
    "    restaurant_names.append(restaurant_name)"
   ]
  },
  {
   "cell_type": "code",
   "execution_count": 37,
   "id": "24b963df",
   "metadata": {},
   "outputs": [],
   "source": [
    "#Extract the restaurant name \n",
    "for details in restaurant_details:\n",
    "    cuisine = details.find(\"span\", class_=\"double-line-ellipsis\").text.strip()\n",
    "    cuisines.append(cuisine)"
   ]
  },
  {
   "cell_type": "code",
   "execution_count": 38,
   "id": "31de609f",
   "metadata": {},
   "outputs": [],
   "source": [
    "#Extract the restaurant location \n",
    "for details in restaurant_details:\n",
    "    location = details.find(\"div\", class_=\"restnt-loc ellipsis\").text.strip()\n",
    "    locations.append(location)"
   ]
  },
  {
   "cell_type": "code",
   "execution_count": 39,
   "id": "adf614d6",
   "metadata": {},
   "outputs": [],
   "source": [
    "for details in restaurant_details:\n",
    "    rating = details.find(\"div\", class_=\"restnt-rating\").text.strip()\n",
    "    ratings.append(rating)"
   ]
  },
  {
   "cell_type": "code",
   "execution_count": 40,
   "id": "9a9672dd",
   "metadata": {},
   "outputs": [],
   "source": [
    "#Create data frame \n",
    "data = {\n",
    "        \"Restaurant Name\": restaurant_names,\n",
    "        \"Cuisine\": cuisines,\n",
    "        \"Location\": locations,\n",
    "        \"Ratings\": ratings,\n",
    "       }   "
   ]
  },
  {
   "cell_type": "code",
   "execution_count": 41,
   "id": "c0342aa4",
   "metadata": {},
   "outputs": [],
   "source": [
    "df=pd.DataFrame(data)"
   ]
  },
  {
   "cell_type": "code",
   "execution_count": 42,
   "id": "c7e8fd65",
   "metadata": {},
   "outputs": [
    {
     "data": {
      "text/html": [
       "<div>\n",
       "<style scoped>\n",
       "    .dataframe tbody tr th:only-of-type {\n",
       "        vertical-align: middle;\n",
       "    }\n",
       "\n",
       "    .dataframe tbody tr th {\n",
       "        vertical-align: top;\n",
       "    }\n",
       "\n",
       "    .dataframe thead th {\n",
       "        text-align: right;\n",
       "    }\n",
       "</style>\n",
       "<table border=\"1\" class=\"dataframe\">\n",
       "  <thead>\n",
       "    <tr style=\"text-align: right;\">\n",
       "      <th></th>\n",
       "      <th>Restaurant Name</th>\n",
       "      <th>Cuisine</th>\n",
       "      <th>Location</th>\n",
       "      <th>Ratings</th>\n",
       "    </tr>\n",
       "  </thead>\n",
       "  <tbody>\n",
       "    <tr>\n",
       "      <th>0</th>\n",
       "      <td>Local</td>\n",
       "      <td>₹ 2,000 for 2 (approx) | North Indian, Asian, ...</td>\n",
       "      <td>Scindia House,Connaught Place, Central Delhi</td>\n",
       "      <td>4.3</td>\n",
       "    </tr>\n",
       "    <tr>\n",
       "      <th>1</th>\n",
       "      <td>Tamasha</td>\n",
       "      <td>₹ 2,000 for 2 (approx) | Continental, Asian, I...</td>\n",
       "      <td>Connaught Place, Central Delhi</td>\n",
       "      <td>4.3</td>\n",
       "    </tr>\n",
       "    <tr>\n",
       "      <th>2</th>\n",
       "      <td>My Bar Square</td>\n",
       "      <td>₹ 2,000 for 2 (approx) | Finger Food, Chinese,...</td>\n",
       "      <td>Connaught Place, Central Delhi</td>\n",
       "      <td>4.3</td>\n",
       "    </tr>\n",
       "    <tr>\n",
       "      <th>3</th>\n",
       "      <td>Station Bar</td>\n",
       "      <td>₹ 1,100 for 2 (approx) | Italian, Chinese, Nor...</td>\n",
       "      <td>F-Block,Connaught Place, Central Delhi</td>\n",
       "      <td>4.3</td>\n",
       "    </tr>\n",
       "    <tr>\n",
       "      <th>4</th>\n",
       "      <td>Ministry Of Beer</td>\n",
       "      <td>₹ 3,000 for 2 (approx) | North Indian, Contine...</td>\n",
       "      <td>M-Block,Connaught Place, Central Delhi</td>\n",
       "      <td>4.3</td>\n",
       "    </tr>\n",
       "    <tr>\n",
       "      <th>5</th>\n",
       "      <td>Warehouse Cafe</td>\n",
       "      <td>₹ 2,500 for 2 (approx) | North Indian, Chinese...</td>\n",
       "      <td>Connaught Place, Central Delhi</td>\n",
       "      <td>4.3</td>\n",
       "    </tr>\n",
       "    <tr>\n",
       "      <th>6</th>\n",
       "      <td>Openhouse Cafe</td>\n",
       "      <td>₹ 2,000 for 2 (approx) | North Indian, Asian, ...</td>\n",
       "      <td>Connaught Place, Central Delhi</td>\n",
       "      <td>4.3</td>\n",
       "    </tr>\n",
       "    <tr>\n",
       "      <th>7</th>\n",
       "      <td>Connaught Club House</td>\n",
       "      <td>₹ 1,800 for 2 (approx) | North Indian, Contine...</td>\n",
       "      <td>Connaught Place, Central Delhi</td>\n",
       "      <td>4.3</td>\n",
       "    </tr>\n",
       "    <tr>\n",
       "      <th>8</th>\n",
       "      <td>Unplugged Courtyard</td>\n",
       "      <td>₹ 2,500 for 2 (approx) | North Indian, Italian...</td>\n",
       "      <td>Connaught Place, Central Delhi</td>\n",
       "      <td>4.3</td>\n",
       "    </tr>\n",
       "    <tr>\n",
       "      <th>9</th>\n",
       "      <td>The Junkyard Cafe</td>\n",
       "      <td>₹ 2,100 for 2 (approx) | North Indian, Contine...</td>\n",
       "      <td>Connaught Place, Central Delhi</td>\n",
       "      <td>4.3</td>\n",
       "    </tr>\n",
       "    <tr>\n",
       "      <th>10</th>\n",
       "      <td>Lord of the Drinks</td>\n",
       "      <td>₹ 2,500 for 2 (approx) | Chinese, North Indian...</td>\n",
       "      <td>Connaught Place, Central Delhi</td>\n",
       "      <td>4.3</td>\n",
       "    </tr>\n",
       "    <tr>\n",
       "      <th>11</th>\n",
       "      <td>Berco's</td>\n",
       "      <td>₹ 1,300 for 2 (approx) | Chinese, Thai</td>\n",
       "      <td>Connaught Place, Central Delhi</td>\n",
       "      <td>4.3</td>\n",
       "    </tr>\n",
       "    <tr>\n",
       "      <th>12</th>\n",
       "      <td>QBA</td>\n",
       "      <td>₹ 2,100 for 2 (approx) | North Indian, Contine...</td>\n",
       "      <td>Connaught Place, Central Delhi</td>\n",
       "      <td>4.3</td>\n",
       "    </tr>\n",
       "    <tr>\n",
       "      <th>13</th>\n",
       "      <td>38 Barracks</td>\n",
       "      <td>₹ 2,700 for 2 (approx) | North Indian, Chinese...</td>\n",
       "      <td>M-Block,Connaught Place, Central Delhi</td>\n",
       "      <td>4.3</td>\n",
       "    </tr>\n",
       "    <tr>\n",
       "      <th>14</th>\n",
       "      <td>The G.T. Road</td>\n",
       "      <td>₹ 2,000 for 2 (approx) | North Indian</td>\n",
       "      <td>M-Block,Connaught Place, Central Delhi</td>\n",
       "      <td>4.3</td>\n",
       "    </tr>\n",
       "    <tr>\n",
       "      <th>15</th>\n",
       "      <td>Ardor 2.1 Restaurant and Lounge</td>\n",
       "      <td>₹ 2,000 for 2 (approx) | North Indian, Chinese...</td>\n",
       "      <td>Connaught Place, Central Delhi</td>\n",
       "      <td>4.3</td>\n",
       "    </tr>\n",
       "    <tr>\n",
       "      <th>16</th>\n",
       "      <td>Dasaprakash</td>\n",
       "      <td>₹ 800 for 2 (approx) | North Indian, South Ind...</td>\n",
       "      <td>Connaught Place, Central Delhi</td>\n",
       "      <td>4.3</td>\n",
       "    </tr>\n",
       "    <tr>\n",
       "      <th>17</th>\n",
       "      <td>Cafe High 5</td>\n",
       "      <td>₹ 1,700 for 2 (approx) | North Indian, Contine...</td>\n",
       "      <td>Connaught Place, Central Delhi</td>\n",
       "      <td>4.3</td>\n",
       "    </tr>\n",
       "    <tr>\n",
       "      <th>18</th>\n",
       "      <td>Pind Balluchi</td>\n",
       "      <td>₹ 1,400 for 2 (approx) | North Indian</td>\n",
       "      <td>Regal Cinema Complex,Connaught Place, Central ...</td>\n",
       "      <td>4.3</td>\n",
       "    </tr>\n",
       "    <tr>\n",
       "      <th>19</th>\n",
       "      <td>Somewhere Restaurant &amp; Bar</td>\n",
       "      <td>₹ 1,000 for 2 (approx) | North Indian, Contine...</td>\n",
       "      <td>Connaught Place, Central Delhi</td>\n",
       "      <td>4.3</td>\n",
       "    </tr>\n",
       "    <tr>\n",
       "      <th>20</th>\n",
       "      <td>The Imperial Spice</td>\n",
       "      <td>₹ 3,000 for 2 (approx) | North Indian, Chinese...</td>\n",
       "      <td>M-Block,Connaught Place, Central Delhi</td>\n",
       "      <td>4.3</td>\n",
       "    </tr>\n",
       "  </tbody>\n",
       "</table>\n",
       "</div>"
      ],
      "text/plain": [
       "                    Restaurant Name  \\\n",
       "0                             Local   \n",
       "1                           Tamasha   \n",
       "2                     My Bar Square   \n",
       "3                       Station Bar   \n",
       "4                  Ministry Of Beer   \n",
       "5                    Warehouse Cafe   \n",
       "6                    Openhouse Cafe   \n",
       "7              Connaught Club House   \n",
       "8               Unplugged Courtyard   \n",
       "9                 The Junkyard Cafe   \n",
       "10               Lord of the Drinks   \n",
       "11                          Berco's   \n",
       "12                              QBA   \n",
       "13                      38 Barracks   \n",
       "14                    The G.T. Road   \n",
       "15  Ardor 2.1 Restaurant and Lounge   \n",
       "16                      Dasaprakash   \n",
       "17                      Cafe High 5   \n",
       "18                    Pind Balluchi   \n",
       "19       Somewhere Restaurant & Bar   \n",
       "20               The Imperial Spice   \n",
       "\n",
       "                                              Cuisine  \\\n",
       "0   ₹ 2,000 for 2 (approx) | North Indian, Asian, ...   \n",
       "1   ₹ 2,000 for 2 (approx) | Continental, Asian, I...   \n",
       "2   ₹ 2,000 for 2 (approx) | Finger Food, Chinese,...   \n",
       "3   ₹ 1,100 for 2 (approx) | Italian, Chinese, Nor...   \n",
       "4   ₹ 3,000 for 2 (approx) | North Indian, Contine...   \n",
       "5   ₹ 2,500 for 2 (approx) | North Indian, Chinese...   \n",
       "6   ₹ 2,000 for 2 (approx) | North Indian, Asian, ...   \n",
       "7   ₹ 1,800 for 2 (approx) | North Indian, Contine...   \n",
       "8   ₹ 2,500 for 2 (approx) | North Indian, Italian...   \n",
       "9   ₹ 2,100 for 2 (approx) | North Indian, Contine...   \n",
       "10  ₹ 2,500 for 2 (approx) | Chinese, North Indian...   \n",
       "11             ₹ 1,300 for 2 (approx) | Chinese, Thai   \n",
       "12  ₹ 2,100 for 2 (approx) | North Indian, Contine...   \n",
       "13  ₹ 2,700 for 2 (approx) | North Indian, Chinese...   \n",
       "14              ₹ 2,000 for 2 (approx) | North Indian   \n",
       "15  ₹ 2,000 for 2 (approx) | North Indian, Chinese...   \n",
       "16  ₹ 800 for 2 (approx) | North Indian, South Ind...   \n",
       "17  ₹ 1,700 for 2 (approx) | North Indian, Contine...   \n",
       "18              ₹ 1,400 for 2 (approx) | North Indian   \n",
       "19  ₹ 1,000 for 2 (approx) | North Indian, Contine...   \n",
       "20  ₹ 3,000 for 2 (approx) | North Indian, Chinese...   \n",
       "\n",
       "                                             Location Ratings  \n",
       "0        Scindia House,Connaught Place, Central Delhi     4.3  \n",
       "1                      Connaught Place, Central Delhi     4.3  \n",
       "2                      Connaught Place, Central Delhi     4.3  \n",
       "3              F-Block,Connaught Place, Central Delhi     4.3  \n",
       "4              M-Block,Connaught Place, Central Delhi     4.3  \n",
       "5                      Connaught Place, Central Delhi     4.3  \n",
       "6                      Connaught Place, Central Delhi     4.3  \n",
       "7                      Connaught Place, Central Delhi     4.3  \n",
       "8                      Connaught Place, Central Delhi     4.3  \n",
       "9                      Connaught Place, Central Delhi     4.3  \n",
       "10                     Connaught Place, Central Delhi     4.3  \n",
       "11                     Connaught Place, Central Delhi     4.3  \n",
       "12                     Connaught Place, Central Delhi     4.3  \n",
       "13             M-Block,Connaught Place, Central Delhi     4.3  \n",
       "14             M-Block,Connaught Place, Central Delhi     4.3  \n",
       "15                     Connaught Place, Central Delhi     4.3  \n",
       "16                     Connaught Place, Central Delhi     4.3  \n",
       "17                     Connaught Place, Central Delhi     4.3  \n",
       "18  Regal Cinema Complex,Connaught Place, Central ...     4.3  \n",
       "19                     Connaught Place, Central Delhi     4.3  \n",
       "20             M-Block,Connaught Place, Central Delhi     4.3  "
      ]
     },
     "execution_count": 42,
     "metadata": {},
     "output_type": "execute_result"
    }
   ],
   "source": [
    "df"
   ]
  },
  {
   "cell_type": "code",
   "execution_count": null,
   "id": "7075db4d",
   "metadata": {},
   "outputs": [],
   "source": []
  }
 ],
 "metadata": {
  "kernelspec": {
   "display_name": "Python 3 (ipykernel)",
   "language": "python",
   "name": "python3"
  },
  "language_info": {
   "codemirror_mode": {
    "name": "ipython",
    "version": 3
   },
   "file_extension": ".py",
   "mimetype": "text/x-python",
   "name": "python",
   "nbconvert_exporter": "python",
   "pygments_lexer": "ipython3",
   "version": "3.9.13"
  }
 },
 "nbformat": 4,
 "nbformat_minor": 5
}
